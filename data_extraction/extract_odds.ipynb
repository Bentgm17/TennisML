{
 "cells": [
  {
   "cell_type": "code",
   "execution_count": 1,
   "metadata": {},
   "outputs": [],
   "source": [
    "from bs4 import BeautifulSoup, SoupStrainer\n",
    "import requests\n",
    "import pandas as pd\n",
    "import chardet\n",
    "from tqdm import tqdm\n",
    "from docker_extract import ExtractData\n"
   ]
  },
  {
   "cell_type": "code",
   "execution_count": 2,
   "metadata": {},
   "outputs": [
    {
     "name": "stderr",
     "output_type": "stream",
     "text": [
      " 30%|███       | 6/20 [00:07<00:19,  1.39s/it]/usr/local/lib/python3.9/site-packages/openpyxl/worksheet/_reader.py:312: UserWarning: Unknown extension is not supported and will be removed\n",
      "  warn(msg)\n",
      "100%|██████████| 20/20 [00:26<00:00,  1.34s/it]\n"
     ]
    }
   ],
   "source": [
    "page = requests.get(\"http://www.tennis-data.co.uk/alldata.php\")\n",
    "out_df=pd.DataFrame([])\n",
    "soup = BeautifulSoup(page.content, 'html.parser')\n",
    "links=[link[\"href\"] for link in soup.select('a[href*=\".xls\"]') if \"w\" not in link[\"href\"] and int(link['href'][:4])>2001]\n",
    "for link in tqdm(links):\n",
    "    df=pd.read_excel('http://www.tennis-data.co.uk/'+link)[['Date','Winner','Loser','B365W','B365L']]\n",
    "    out_df=out_df.append(df)\n",
    "out_df.columns=['date','winner','loser','w_odds','l_odds']\n",
    "out_df['date'] = pd.to_datetime(out_df['date'])\n",
    "out_df.sort_values(by=\"date\",inplace=True)\n",
    "\n",
    "# df=pd.read_excel('http://www.tennis-data.co.uk/2022/2022.xlsx')\n",
    "# print(df)\n",
    "# df = pd.read_csv('http://www.tennis-data.co.uk/2022/2022.xlsx')\n",
    "# print(df)"
   ]
  },
  {
   "cell_type": "code",
   "execution_count": 3,
   "metadata": {},
   "outputs": [],
   "source": [
    "out_df=out_df.dropna()\n"
   ]
  },
  {
   "cell_type": "code",
   "execution_count": 8,
   "metadata": {},
   "outputs": [
    {
     "name": "stdout",
     "output_type": "stream",
     "text": [
      "47897\n",
      "1407       Godwin\n",
      "1409          Lee\n",
      "1413     Morrison\n",
      "1421       Spadea\n",
      "1371    Johansson\n",
      "          ...    \n",
      "537        Norrie\n",
      "595          Baez\n",
      "596      Martinez\n",
      "539         Nadal\n",
      "597      Martinez\n",
      "Name: winner, Length: 47897, dtype: object\n",
      "1407          Gasquet\n",
      "1409          Larsson\n",
      "1413             Ilie\n",
      "1421           Llodra\n",
      "1371         Pretzsch\n",
      "            ...      \n",
      "537         Tsitsipas\n",
      "595     Ramos-Vinolas\n",
      "596            Tabilo\n",
      "539            Norrie\n",
      "597              Baez\n",
      "Name: loser, Length: 47897, dtype: object\n"
     ]
    }
   ],
   "source": [
    "print(out_df['winner'].map(lambda v: ' '.join(v.split(' ')[:-1][0])))\n",
    "print(out_df['loser'].map(lambda v: v.split(' ')[:-1][0]))"
   ]
  },
  {
   "cell_type": "code",
   "execution_count": 16,
   "metadata": {},
   "outputs": [
    {
     "name": "stdout",
     "output_type": "stream",
     "text": [
      "1663              El Aynaoui\n",
      "1648              El Aynaoui\n",
      "1672              El Aynaoui\n",
      "1669              El Aynaoui\n",
      "1760              van Lottum\n",
      "                ...         \n",
      "454            Bautista Agut\n",
      "573             Seyboth Wild\n",
      "581     Pucinelli de Almeida\n",
      "554            Bautista Agut\n",
      "514            Carreno Busta\n",
      "Name: winner, Length: 1404, dtype: object\n",
      "1663              El Aynaoui Y.\n",
      "1648              El Aynaoui Y.\n",
      "1672              El Aynaoui Y.\n",
      "1669              El Aynaoui Y.\n",
      "1760              van Lottum J.\n",
      "                 ...           \n",
      "454            Bautista Agut R.\n",
      "573             Seyboth Wild T.\n",
      "581     Pucinelli de Almeida M.\n",
      "554            Bautista Agut R.\n",
      "514            Carreno Busta P.\n",
      "Name: winner, Length: 1404, dtype: object\n",
      "1407          Gasquet R.\n",
      "1409          Larsson M.\n",
      "1413             Ilie A.\n",
      "1421           Llodra M.\n",
      "1371         Pretzsch A.\n",
      "              ...       \n",
      "537         Tsitsipas S.\n",
      "595     Ramos-Vinolas A.\n",
      "596            Tabilo A.\n",
      "539            Norrie C.\n",
      "597              Baez S.\n",
      "Name: loser, Length: 47897, dtype: object\n"
     ]
    }
   ],
   "source": [
    "print(out_df[out_df['winner'].apply(lambda x: len(x.split(' '))>2)]['winner'].map(lambda v: ' '.join(v.split(' ')[:-1])))\n",
    "print(out_df[out_df['winner'].apply(lambda x: len(x.split(' '))>2)]['winner'])\n",
    "print(out_df['loser'])"
   ]
  }
 ],
 "metadata": {
  "interpreter": {
   "hash": "ac2eaa0ea0ebeafcc7822e65e46aa9d4f966f30b695406963e145ea4a91cd4fc"
  },
  "kernelspec": {
   "display_name": "Python 3.9.10 64-bit",
   "language": "python",
   "name": "python3"
  },
  "language_info": {
   "codemirror_mode": {
    "name": "ipython",
    "version": 3
   },
   "file_extension": ".py",
   "mimetype": "text/x-python",
   "name": "python",
   "nbconvert_exporter": "python",
   "pygments_lexer": "ipython3",
   "version": "3.9.10"
  },
  "orig_nbformat": 4
 },
 "nbformat": 4,
 "nbformat_minor": 2
}
