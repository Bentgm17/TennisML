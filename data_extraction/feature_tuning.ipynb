{
 "cells": [
  {
   "cell_type": "code",
   "execution_count": 4,
   "metadata": {},
   "outputs": [],
   "source": [
    "%run \"docker_extract.py\"\n",
    "# import sys\n",
    "# sys.path.insert(0, \".\")\n",
    "\n",
    "import numpy as np\n",
    "import pandas as pd\n",
    "import os\n",
    "import matplotlib.pyplot as plt\n",
    "from ipynb.fs.full.docker_extract import ExtractData \n",
    "from ipynb.fs.full.compute_statistics import Transformation \n",
    "# from docker_extract import ExtractData\n",
    "\n",
    "\n",
    "parent_dir=os.path.dirname(os.getcwd())\n",
    "data_extractor=ExtractData()\n",
    "df=pd.read_csv(os.path.join(parent_dir,\"test_dataframe.csv\"),index_col=0)\n",
    "old_cols=df.columns\n",
    "df.dropna(how='all', axis=1, inplace=True)\n",
    "df.drop([\"match_id.1\",\"has_stats\"],axis=1,inplace=True)\n",
    "df=df[df['outcome'] != \"RET\"]\n",
    "df=df[(~df['surface'].isna()) | (~df['indoor'].isna())]\n",
    "df.sort_values(by=\"date\",inplace=True)\n"
   ]
  },
  {
   "cell_type": "code",
   "execution_count": 5,
   "metadata": {},
   "outputs": [
    {
     "name": "stdout",
     "output_type": "stream",
     "text": [
      "(69594, 57)\n"
     ]
    },
    {
     "name": "stderr",
     "output_type": "stream",
     "text": [
      " 30%|███       | 6/20 [00:08<00:24,  1.77s/it]/usr/local/lib/python3.9/site-packages/openpyxl/worksheet/_reader.py:312: UserWarning: Unknown extension is not supported and will be removed\n",
      "  warn(msg)\n",
      "100%|██████████| 20/20 [00:32<00:00,  1.62s/it]\n",
      "/Users/gijs/Documents/Business_Analytics/Machine Learning/TennisML/data_extraction/compute_statistics.py:431: SettingWithCopyWarning: \n",
      "A value is trying to be set on a copy of a slice from a DataFrame.\n",
      "Try using .loc[row_indexer,col_indexer] = value instead\n",
      "\n",
      "See the caveats in the documentation: https://pandas.pydata.org/pandas-docs/stable/user_guide/indexing.html#returning-a-view-versus-a-copy\n",
      "  odds_df['winner']=odds_df['winner'].map(lambda v: ' '.join(v.split(' ')[:-1]))\n",
      "/Users/gijs/Documents/Business_Analytics/Machine Learning/TennisML/data_extraction/compute_statistics.py:432: SettingWithCopyWarning: \n",
      "A value is trying to be set on a copy of a slice from a DataFrame.\n",
      "Try using .loc[row_indexer,col_indexer] = value instead\n",
      "\n",
      "See the caveats in the documentation: https://pandas.pydata.org/pandas-docs/stable/user_guide/indexing.html#returning-a-view-versus-a-copy\n",
      "  odds_df['loser']=odds_df['loser'].map(lambda v: ' '.join(v.split(' ')[:-1]))\n"
     ]
    },
    {
     "name": "stdout",
     "output_type": "stream",
     "text": [
      "       match_id  w_odds  l_odds  l_sf_elo  l_i_o_elo_rank  w_sf_elo  \\\n",
      "0         80931     NaN     NaN    2367.0          2367.0    1868.0   \n",
      "1         80965     NaN     NaN    1796.0          1796.0    1903.0   \n",
      "2         80966     NaN     NaN    1730.0          1730.0    1899.0   \n",
      "3         80967     NaN     NaN    1800.0          1800.0    1864.0   \n",
      "4         80968     NaN     NaN    1707.0          1707.0    1913.0   \n",
      "...         ...     ...     ...       ...             ...       ...   \n",
      "69314    177392     NaN     NaN    2159.0          2125.0    2363.0   \n",
      "69315    177393     NaN     NaN    2204.0          2143.0    2363.0   \n",
      "69316    177396     NaN     NaN    2204.0          2143.0    2159.0   \n",
      "69317    177394     NaN     NaN    2159.0          2125.0    2273.0   \n",
      "69318    177385     NaN     NaN    2425.0          2315.0    2250.0   \n",
      "\n",
      "       w_i_o_elo_rank  winner_id  loser_id  w_rank  ...  w_r_game_w  \\\n",
      "0              1868.0       1723      1414    56.0  ...    0.125000   \n",
      "1              1903.0       1439       857    70.0  ...    0.461538   \n",
      "2              1899.0       1735      1955    32.0  ...    0.600000   \n",
      "3              1864.0       1119      1532    83.0  ...    0.444444   \n",
      "4              1913.0        752      1601    79.0  ...    0.500000   \n",
      "...               ...        ...       ...     ...  ...         ...   \n",
      "69314          2217.0       4742     26577     2.0  ...    0.285714   \n",
      "69315          2217.0       4742     25897     2.0  ...    0.222222   \n",
      "69316          2125.0      26577     25897     6.0  ...    0.142857   \n",
      "69317          2139.0       6219     26577     3.0  ...    0.066667   \n",
      "69318          2135.0       6407      4920     4.0  ...    0.333333   \n",
      "\n",
      "       l_r_game_w    w_gm_w    l_gm_w  w_g_dominance  l_g_dominance  \\\n",
      "0        0.133333  0.483871  0.516129       0.937500       1.066667   \n",
      "1        0.357143  0.555556  0.444444       1.292308       0.773810   \n",
      "2        0.300000  0.650000  0.350000       2.000000       0.500000   \n",
      "3        0.200000  0.631579  0.315789       2.222222       0.450000   \n",
      "4        0.428571  0.535714  0.464286       1.166667       0.857143   \n",
      "...           ...       ...       ...            ...            ...   \n",
      "69314    0.142857  0.571429  0.428571       2.000000       0.500000   \n",
      "69315    0.000000  0.631579  0.368421       0.000000       0.000000   \n",
      "69316    0.066667  0.551724  0.448276       2.142857       0.466667   \n",
      "69317    0.062500  0.516129  0.483871       1.066667       0.937500   \n",
      "69318    0.000000  0.666667  0.333333       0.000000       0.000000   \n",
      "\n",
      "       w_br_ratio  l_br_ratio   w_win_p   l_win_p  \n",
      "0        0.500000    2.000000  0.053531  0.946469  \n",
      "1        1.320000    0.757576  0.649295  0.350705  \n",
      "2        1.230769    0.812500  0.725686  0.274314  \n",
      "3        3.250000    0.307692  0.591076  0.408924  \n",
      "4        0.583333    1.714286  0.765995  0.234005  \n",
      "...           ...         ...       ...       ...  \n",
      "69314    0.750000    1.333333  0.806528  0.193472  \n",
      "69315    0.400000    2.500000  0.771114  0.228886  \n",
      "69316    0.222222    4.500000  0.451226  0.548774  \n",
      "69317    0.750000    1.333333  0.581301  0.418699  \n",
      "69318    0.000000    0.000000  0.218885  0.781115  \n",
      "\n",
      "[69319 rows x 70 columns]\n"
     ]
    }
   ],
   "source": [
    "import numpy as np\n",
    "\n",
    "print(df.shape)\n",
    "data_trans = Transformation(df)\n",
    "data_trans()\n",
    "new_df=data_trans.get_dataframe()\n",
    "print(new_df)\n",
    "# new_df.to_csv('new_df.csv')\n",
    "# print(new_df.shape)\n",
    "# new_df.drop(['w_1st_in','l_1st_in','w_sv_gm_lset','l_sv_gm_lset','w_ace_set','l_ace_set','w_df_set','l_df_set','w_r_gm_w_set','l_r_gm_w_set','w_bp_set','l_bp_set','w_bpf_set','l_bpf_set'],axis=1,inplace=True)\n",
    "# new_df=new_df[~new_df.isin([np.nan, np.inf, -np.inf]).any(1)]\n",
    "# new_df.dropna(inplace=True)\n",
    "# new_df.sort_values(by=['date','match_id']).to_csv('stats_df.csv')\n",
    "# display(new_df)\n",
    "\n",
    "#sv is service--> Bal slaan\n",
    "#sf is surface"
   ]
  },
  {
   "cell_type": "code",
   "execution_count": 3,
   "metadata": {},
   "outputs": [
    {
     "data": {
      "text/html": [
       "<div>\n",
       "<style scoped>\n",
       "    .dataframe tbody tr th:only-of-type {\n",
       "        vertical-align: middle;\n",
       "    }\n",
       "\n",
       "    .dataframe tbody tr th {\n",
       "        vertical-align: top;\n",
       "    }\n",
       "\n",
       "    .dataframe thead th {\n",
       "        text-align: right;\n",
       "    }\n",
       "</style>\n",
       "<table border=\"1\" class=\"dataframe\">\n",
       "  <thead>\n",
       "    <tr style=\"text-align: right;\">\n",
       "      <th></th>\n",
       "      <th>match_id</th>\n",
       "      <th>w_odds</th>\n",
       "      <th>l_odds</th>\n",
       "      <th>l_sf_elo</th>\n",
       "      <th>l_i_o_elo_rank</th>\n",
       "      <th>w_sf_elo</th>\n",
       "      <th>w_i_o_elo_rank</th>\n",
       "      <th>winner_id</th>\n",
       "      <th>loser_id</th>\n",
       "      <th>w_rank</th>\n",
       "      <th>...</th>\n",
       "      <th>w_r_game_w</th>\n",
       "      <th>l_r_game_w</th>\n",
       "      <th>w_gm_w</th>\n",
       "      <th>l_gm_w</th>\n",
       "      <th>w_g_dominance</th>\n",
       "      <th>l_g_dominance</th>\n",
       "      <th>w_br_ratio</th>\n",
       "      <th>l_br_ratio</th>\n",
       "      <th>w_win_p</th>\n",
       "      <th>l_win_p</th>\n",
       "    </tr>\n",
       "  </thead>\n",
       "  <tbody>\n",
       "    <tr>\n",
       "      <th>30545</th>\n",
       "      <td>123044</td>\n",
       "      <td>2.200</td>\n",
       "      <td>1.615</td>\n",
       "      <td>1894.0</td>\n",
       "      <td>2075.0</td>\n",
       "      <td>1909.0</td>\n",
       "      <td>2004.0</td>\n",
       "      <td>2783</td>\n",
       "      <td>2562</td>\n",
       "      <td>23.0</td>\n",
       "      <td>...</td>\n",
       "      <td>0.375000</td>\n",
       "      <td>0.000000</td>\n",
       "      <td>0.705882</td>\n",
       "      <td>0.294118</td>\n",
       "      <td>0.000000</td>\n",
       "      <td>0.000000</td>\n",
       "      <td>0.375000</td>\n",
       "      <td>2.666667</td>\n",
       "      <td>0.395087</td>\n",
       "      <td>0.604913</td>\n",
       "    </tr>\n",
       "    <tr>\n",
       "      <th>30546</th>\n",
       "      <td>123045</td>\n",
       "      <td>1.100</td>\n",
       "      <td>6.500</td>\n",
       "      <td>1774.0</td>\n",
       "      <td>1792.0</td>\n",
       "      <td>2098.0</td>\n",
       "      <td>2082.0</td>\n",
       "      <td>2563</td>\n",
       "      <td>2809</td>\n",
       "      <td>7.0</td>\n",
       "      <td>...</td>\n",
       "      <td>0.444444</td>\n",
       "      <td>0.111111</td>\n",
       "      <td>0.666667</td>\n",
       "      <td>0.333333</td>\n",
       "      <td>4.000000</td>\n",
       "      <td>0.250000</td>\n",
       "      <td>0.800000</td>\n",
       "      <td>1.250000</td>\n",
       "      <td>0.848281</td>\n",
       "      <td>0.151719</td>\n",
       "    </tr>\n",
       "    <tr>\n",
       "      <th>30550</th>\n",
       "      <td>123049</td>\n",
       "      <td>2.625</td>\n",
       "      <td>1.444</td>\n",
       "      <td>1886.0</td>\n",
       "      <td>2075.0</td>\n",
       "      <td>1802.0</td>\n",
       "      <td>1893.0</td>\n",
       "      <td>2905</td>\n",
       "      <td>2845</td>\n",
       "      <td>41.0</td>\n",
       "      <td>...</td>\n",
       "      <td>0.444444</td>\n",
       "      <td>0.111111</td>\n",
       "      <td>0.666667</td>\n",
       "      <td>0.333333</td>\n",
       "      <td>4.000000</td>\n",
       "      <td>0.250000</td>\n",
       "      <td>2.000000</td>\n",
       "      <td>0.500000</td>\n",
       "      <td>0.274314</td>\n",
       "      <td>0.725686</td>\n",
       "    </tr>\n",
       "    <tr>\n",
       "      <th>30557</th>\n",
       "      <td>123041</td>\n",
       "      <td>1.444</td>\n",
       "      <td>2.625</td>\n",
       "      <td>2031.0</td>\n",
       "      <td>1945.0</td>\n",
       "      <td>2009.0</td>\n",
       "      <td>1972.0</td>\n",
       "      <td>2338</td>\n",
       "      <td>2035</td>\n",
       "      <td>6.0</td>\n",
       "      <td>...</td>\n",
       "      <td>0.300000</td>\n",
       "      <td>0.100000</td>\n",
       "      <td>0.600000</td>\n",
       "      <td>0.400000</td>\n",
       "      <td>3.000000</td>\n",
       "      <td>0.333333</td>\n",
       "      <td>0.300000</td>\n",
       "      <td>3.333333</td>\n",
       "      <td>0.607661</td>\n",
       "      <td>0.392339</td>\n",
       "    </tr>\n",
       "    <tr>\n",
       "      <th>30567</th>\n",
       "      <td>123054</td>\n",
       "      <td>1.533</td>\n",
       "      <td>2.375</td>\n",
       "      <td>1818.0</td>\n",
       "      <td>1832.0</td>\n",
       "      <td>1921.0</td>\n",
       "      <td>2043.0</td>\n",
       "      <td>2318</td>\n",
       "      <td>3285</td>\n",
       "      <td>21.0</td>\n",
       "      <td>...</td>\n",
       "      <td>0.181818</td>\n",
       "      <td>0.090909</td>\n",
       "      <td>0.545455</td>\n",
       "      <td>0.454545</td>\n",
       "      <td>2.000000</td>\n",
       "      <td>0.500000</td>\n",
       "      <td>1.555556</td>\n",
       "      <td>0.642857</td>\n",
       "      <td>0.774148</td>\n",
       "      <td>0.225852</td>\n",
       "    </tr>\n",
       "    <tr>\n",
       "      <th>...</th>\n",
       "      <td>...</td>\n",
       "      <td>...</td>\n",
       "      <td>...</td>\n",
       "      <td>...</td>\n",
       "      <td>...</td>\n",
       "      <td>...</td>\n",
       "      <td>...</td>\n",
       "      <td>...</td>\n",
       "      <td>...</td>\n",
       "      <td>...</td>\n",
       "      <td>...</td>\n",
       "      <td>...</td>\n",
       "      <td>...</td>\n",
       "      <td>...</td>\n",
       "      <td>...</td>\n",
       "      <td>...</td>\n",
       "      <td>...</td>\n",
       "      <td>...</td>\n",
       "      <td>...</td>\n",
       "      <td>...</td>\n",
       "      <td>...</td>\n",
       "    </tr>\n",
       "    <tr>\n",
       "      <th>69298</th>\n",
       "      <td>177359</td>\n",
       "      <td>1.660</td>\n",
       "      <td>2.100</td>\n",
       "      <td>2124.0</td>\n",
       "      <td>2065.0</td>\n",
       "      <td>1908.0</td>\n",
       "      <td>1936.0</td>\n",
       "      <td>50810</td>\n",
       "      <td>45105</td>\n",
       "      <td>44.0</td>\n",
       "      <td>...</td>\n",
       "      <td>0.333333</td>\n",
       "      <td>0.071429</td>\n",
       "      <td>0.620690</td>\n",
       "      <td>0.379310</td>\n",
       "      <td>4.666667</td>\n",
       "      <td>0.214286</td>\n",
       "      <td>3.888889</td>\n",
       "      <td>0.257143</td>\n",
       "      <td>0.380059</td>\n",
       "      <td>0.619941</td>\n",
       "    </tr>\n",
       "    <tr>\n",
       "      <th>69299</th>\n",
       "      <td>177357</td>\n",
       "      <td>1.530</td>\n",
       "      <td>2.370</td>\n",
       "      <td>1975.0</td>\n",
       "      <td>1930.0</td>\n",
       "      <td>2042.0</td>\n",
       "      <td>1976.0</td>\n",
       "      <td>5565</td>\n",
       "      <td>4752</td>\n",
       "      <td>74.0</td>\n",
       "      <td>...</td>\n",
       "      <td>0.384615</td>\n",
       "      <td>0.000000</td>\n",
       "      <td>0.692308</td>\n",
       "      <td>0.307692</td>\n",
       "      <td>0.000000</td>\n",
       "      <td>0.000000</td>\n",
       "      <td>0.000000</td>\n",
       "      <td>0.000000</td>\n",
       "      <td>0.537347</td>\n",
       "      <td>0.462653</td>\n",
       "    </tr>\n",
       "    <tr>\n",
       "      <th>69300</th>\n",
       "      <td>177356</td>\n",
       "      <td>1.220</td>\n",
       "      <td>4.000</td>\n",
       "      <td>1952.0</td>\n",
       "      <td>1929.0</td>\n",
       "      <td>1908.0</td>\n",
       "      <td>1936.0</td>\n",
       "      <td>50810</td>\n",
       "      <td>5166</td>\n",
       "      <td>44.0</td>\n",
       "      <td>...</td>\n",
       "      <td>0.200000</td>\n",
       "      <td>0.000000</td>\n",
       "      <td>0.619048</td>\n",
       "      <td>0.380952</td>\n",
       "      <td>0.000000</td>\n",
       "      <td>0.000000</td>\n",
       "      <td>0.000000</td>\n",
       "      <td>0.000000</td>\n",
       "      <td>0.543066</td>\n",
       "      <td>0.456934</td>\n",
       "    </tr>\n",
       "    <tr>\n",
       "      <th>69301</th>\n",
       "      <td>177355</td>\n",
       "      <td>1.400</td>\n",
       "      <td>2.750</td>\n",
       "      <td>2042.0</td>\n",
       "      <td>1976.0</td>\n",
       "      <td>1908.0</td>\n",
       "      <td>1936.0</td>\n",
       "      <td>50810</td>\n",
       "      <td>5565</td>\n",
       "      <td>44.0</td>\n",
       "      <td>...</td>\n",
       "      <td>0.125000</td>\n",
       "      <td>0.133333</td>\n",
       "      <td>0.483871</td>\n",
       "      <td>0.516129</td>\n",
       "      <td>0.937500</td>\n",
       "      <td>1.066667</td>\n",
       "      <td>1.000000</td>\n",
       "      <td>1.000000</td>\n",
       "      <td>0.468382</td>\n",
       "      <td>0.531618</td>\n",
       "    </tr>\n",
       "    <tr>\n",
       "      <th>69303</th>\n",
       "      <td>177358</td>\n",
       "      <td>1.530</td>\n",
       "      <td>2.370</td>\n",
       "      <td>1886.0</td>\n",
       "      <td>1928.0</td>\n",
       "      <td>1952.0</td>\n",
       "      <td>1929.0</td>\n",
       "      <td>5166</td>\n",
       "      <td>5420</td>\n",
       "      <td>35.0</td>\n",
       "      <td>...</td>\n",
       "      <td>0.250000</td>\n",
       "      <td>0.166667</td>\n",
       "      <td>0.541667</td>\n",
       "      <td>0.458333</td>\n",
       "      <td>1.500000</td>\n",
       "      <td>0.666667</td>\n",
       "      <td>0.600000</td>\n",
       "      <td>1.666667</td>\n",
       "      <td>0.565815</td>\n",
       "      <td>0.434185</td>\n",
       "    </tr>\n",
       "  </tbody>\n",
       "</table>\n",
       "<p>21784 rows × 70 columns</p>\n",
       "</div>"
      ],
      "text/plain": [
       "       match_id  w_odds  l_odds  l_sf_elo  l_i_o_elo_rank  w_sf_elo  \\\n",
       "30545    123044   2.200   1.615    1894.0          2075.0    1909.0   \n",
       "30546    123045   1.100   6.500    1774.0          1792.0    2098.0   \n",
       "30550    123049   2.625   1.444    1886.0          2075.0    1802.0   \n",
       "30557    123041   1.444   2.625    2031.0          1945.0    2009.0   \n",
       "30567    123054   1.533   2.375    1818.0          1832.0    1921.0   \n",
       "...         ...     ...     ...       ...             ...       ...   \n",
       "69298    177359   1.660   2.100    2124.0          2065.0    1908.0   \n",
       "69299    177357   1.530   2.370    1975.0          1930.0    2042.0   \n",
       "69300    177356   1.220   4.000    1952.0          1929.0    1908.0   \n",
       "69301    177355   1.400   2.750    2042.0          1976.0    1908.0   \n",
       "69303    177358   1.530   2.370    1886.0          1928.0    1952.0   \n",
       "\n",
       "       w_i_o_elo_rank  winner_id  loser_id  w_rank  ...  w_r_game_w  \\\n",
       "30545          2004.0       2783      2562    23.0  ...    0.375000   \n",
       "30546          2082.0       2563      2809     7.0  ...    0.444444   \n",
       "30550          1893.0       2905      2845    41.0  ...    0.444444   \n",
       "30557          1972.0       2338      2035     6.0  ...    0.300000   \n",
       "30567          2043.0       2318      3285    21.0  ...    0.181818   \n",
       "...               ...        ...       ...     ...  ...         ...   \n",
       "69298          1936.0      50810     45105    44.0  ...    0.333333   \n",
       "69299          1976.0       5565      4752    74.0  ...    0.384615   \n",
       "69300          1936.0      50810      5166    44.0  ...    0.200000   \n",
       "69301          1936.0      50810      5565    44.0  ...    0.125000   \n",
       "69303          1929.0       5166      5420    35.0  ...    0.250000   \n",
       "\n",
       "       l_r_game_w    w_gm_w    l_gm_w  w_g_dominance  l_g_dominance  \\\n",
       "30545    0.000000  0.705882  0.294118       0.000000       0.000000   \n",
       "30546    0.111111  0.666667  0.333333       4.000000       0.250000   \n",
       "30550    0.111111  0.666667  0.333333       4.000000       0.250000   \n",
       "30557    0.100000  0.600000  0.400000       3.000000       0.333333   \n",
       "30567    0.090909  0.545455  0.454545       2.000000       0.500000   \n",
       "...           ...       ...       ...            ...            ...   \n",
       "69298    0.071429  0.620690  0.379310       4.666667       0.214286   \n",
       "69299    0.000000  0.692308  0.307692       0.000000       0.000000   \n",
       "69300    0.000000  0.619048  0.380952       0.000000       0.000000   \n",
       "69301    0.133333  0.483871  0.516129       0.937500       1.066667   \n",
       "69303    0.166667  0.541667  0.458333       1.500000       0.666667   \n",
       "\n",
       "       w_br_ratio  l_br_ratio   w_win_p   l_win_p  \n",
       "30545    0.375000    2.666667  0.395087  0.604913  \n",
       "30546    0.800000    1.250000  0.848281  0.151719  \n",
       "30550    2.000000    0.500000  0.274314  0.725686  \n",
       "30557    0.300000    3.333333  0.607661  0.392339  \n",
       "30567    1.555556    0.642857  0.774148  0.225852  \n",
       "...           ...         ...       ...       ...  \n",
       "69298    3.888889    0.257143  0.380059  0.619941  \n",
       "69299    0.000000    0.000000  0.537347  0.462653  \n",
       "69300    0.000000    0.000000  0.543066  0.456934  \n",
       "69301    1.000000    1.000000  0.468382  0.531618  \n",
       "69303    0.600000    1.666667  0.565815  0.434185  \n",
       "\n",
       "[21784 rows x 70 columns]"
      ]
     },
     "metadata": {},
     "output_type": "display_data"
    }
   ],
   "source": [
    "display(new_df[new_df['w_odds'].notna()])"
   ]
  },
  {
   "cell_type": "code",
   "execution_count": 4,
   "metadata": {},
   "outputs": [
    {
     "data": {
      "text/html": [
       "<div>\n",
       "<style scoped>\n",
       "    .dataframe tbody tr th:only-of-type {\n",
       "        vertical-align: middle;\n",
       "    }\n",
       "\n",
       "    .dataframe tbody tr th {\n",
       "        vertical-align: top;\n",
       "    }\n",
       "\n",
       "    .dataframe thead th {\n",
       "        text-align: right;\n",
       "    }\n",
       "</style>\n",
       "<table border=\"1\" class=\"dataframe\">\n",
       "  <thead>\n",
       "    <tr style=\"text-align: right;\">\n",
       "      <th></th>\n",
       "      <th>match_id</th>\n",
       "      <th>w_odds</th>\n",
       "      <th>l_odds</th>\n",
       "      <th>l_sf_elo</th>\n",
       "      <th>l_i_o_elo_rank</th>\n",
       "      <th>w_sf_elo</th>\n",
       "      <th>w_i_o_elo_rank</th>\n",
       "      <th>winner_id</th>\n",
       "      <th>loser_id</th>\n",
       "      <th>w_rank</th>\n",
       "      <th>...</th>\n",
       "      <th>w_r_game_w</th>\n",
       "      <th>l_r_game_w</th>\n",
       "      <th>w_gm_w</th>\n",
       "      <th>l_gm_w</th>\n",
       "      <th>w_g_dominance</th>\n",
       "      <th>l_g_dominance</th>\n",
       "      <th>w_br_ratio</th>\n",
       "      <th>l_br_ratio</th>\n",
       "      <th>w_win_p</th>\n",
       "      <th>l_win_p</th>\n",
       "    </tr>\n",
       "  </thead>\n",
       "  <tbody>\n",
       "    <tr>\n",
       "      <th>0</th>\n",
       "      <td>80931</td>\n",
       "      <td>NaN</td>\n",
       "      <td>NaN</td>\n",
       "      <td>2367.0</td>\n",
       "      <td>2367.0</td>\n",
       "      <td>1868.0</td>\n",
       "      <td>1868.0</td>\n",
       "      <td>1723</td>\n",
       "      <td>1414</td>\n",
       "      <td>56.0</td>\n",
       "      <td>...</td>\n",
       "      <td>0.125000</td>\n",
       "      <td>0.133333</td>\n",
       "      <td>0.483871</td>\n",
       "      <td>0.516129</td>\n",
       "      <td>0.937500</td>\n",
       "      <td>1.066667</td>\n",
       "      <td>0.500000</td>\n",
       "      <td>2.000000</td>\n",
       "      <td>0.053531</td>\n",
       "      <td>0.946469</td>\n",
       "    </tr>\n",
       "    <tr>\n",
       "      <th>1</th>\n",
       "      <td>80965</td>\n",
       "      <td>NaN</td>\n",
       "      <td>NaN</td>\n",
       "      <td>1796.0</td>\n",
       "      <td>1796.0</td>\n",
       "      <td>1903.0</td>\n",
       "      <td>1903.0</td>\n",
       "      <td>1439</td>\n",
       "      <td>857</td>\n",
       "      <td>70.0</td>\n",
       "      <td>...</td>\n",
       "      <td>0.461538</td>\n",
       "      <td>0.357143</td>\n",
       "      <td>0.555556</td>\n",
       "      <td>0.444444</td>\n",
       "      <td>1.292308</td>\n",
       "      <td>0.773810</td>\n",
       "      <td>1.320000</td>\n",
       "      <td>0.757576</td>\n",
       "      <td>0.649295</td>\n",
       "      <td>0.350705</td>\n",
       "    </tr>\n",
       "    <tr>\n",
       "      <th>2</th>\n",
       "      <td>80966</td>\n",
       "      <td>NaN</td>\n",
       "      <td>NaN</td>\n",
       "      <td>1730.0</td>\n",
       "      <td>1730.0</td>\n",
       "      <td>1899.0</td>\n",
       "      <td>1899.0</td>\n",
       "      <td>1735</td>\n",
       "      <td>1955</td>\n",
       "      <td>32.0</td>\n",
       "      <td>...</td>\n",
       "      <td>0.600000</td>\n",
       "      <td>0.300000</td>\n",
       "      <td>0.650000</td>\n",
       "      <td>0.350000</td>\n",
       "      <td>2.000000</td>\n",
       "      <td>0.500000</td>\n",
       "      <td>1.230769</td>\n",
       "      <td>0.812500</td>\n",
       "      <td>0.725686</td>\n",
       "      <td>0.274314</td>\n",
       "    </tr>\n",
       "    <tr>\n",
       "      <th>3</th>\n",
       "      <td>80967</td>\n",
       "      <td>NaN</td>\n",
       "      <td>NaN</td>\n",
       "      <td>1800.0</td>\n",
       "      <td>1800.0</td>\n",
       "      <td>1864.0</td>\n",
       "      <td>1864.0</td>\n",
       "      <td>1119</td>\n",
       "      <td>1532</td>\n",
       "      <td>83.0</td>\n",
       "      <td>...</td>\n",
       "      <td>0.444444</td>\n",
       "      <td>0.200000</td>\n",
       "      <td>0.631579</td>\n",
       "      <td>0.315789</td>\n",
       "      <td>2.222222</td>\n",
       "      <td>0.450000</td>\n",
       "      <td>3.250000</td>\n",
       "      <td>0.307692</td>\n",
       "      <td>0.591076</td>\n",
       "      <td>0.408924</td>\n",
       "    </tr>\n",
       "    <tr>\n",
       "      <th>4</th>\n",
       "      <td>80968</td>\n",
       "      <td>NaN</td>\n",
       "      <td>NaN</td>\n",
       "      <td>1707.0</td>\n",
       "      <td>1707.0</td>\n",
       "      <td>1913.0</td>\n",
       "      <td>1913.0</td>\n",
       "      <td>752</td>\n",
       "      <td>1601</td>\n",
       "      <td>79.0</td>\n",
       "      <td>...</td>\n",
       "      <td>0.500000</td>\n",
       "      <td>0.428571</td>\n",
       "      <td>0.535714</td>\n",
       "      <td>0.464286</td>\n",
       "      <td>1.166667</td>\n",
       "      <td>0.857143</td>\n",
       "      <td>0.583333</td>\n",
       "      <td>1.714286</td>\n",
       "      <td>0.765995</td>\n",
       "      <td>0.234005</td>\n",
       "    </tr>\n",
       "    <tr>\n",
       "      <th>...</th>\n",
       "      <td>...</td>\n",
       "      <td>...</td>\n",
       "      <td>...</td>\n",
       "      <td>...</td>\n",
       "      <td>...</td>\n",
       "      <td>...</td>\n",
       "      <td>...</td>\n",
       "      <td>...</td>\n",
       "      <td>...</td>\n",
       "      <td>...</td>\n",
       "      <td>...</td>\n",
       "      <td>...</td>\n",
       "      <td>...</td>\n",
       "      <td>...</td>\n",
       "      <td>...</td>\n",
       "      <td>...</td>\n",
       "      <td>...</td>\n",
       "      <td>...</td>\n",
       "      <td>...</td>\n",
       "      <td>...</td>\n",
       "      <td>...</td>\n",
       "    </tr>\n",
       "    <tr>\n",
       "      <th>69314</th>\n",
       "      <td>177392</td>\n",
       "      <td>NaN</td>\n",
       "      <td>NaN</td>\n",
       "      <td>2159.0</td>\n",
       "      <td>2125.0</td>\n",
       "      <td>2363.0</td>\n",
       "      <td>2217.0</td>\n",
       "      <td>4742</td>\n",
       "      <td>26577</td>\n",
       "      <td>2.0</td>\n",
       "      <td>...</td>\n",
       "      <td>0.285714</td>\n",
       "      <td>0.142857</td>\n",
       "      <td>0.571429</td>\n",
       "      <td>0.428571</td>\n",
       "      <td>2.000000</td>\n",
       "      <td>0.500000</td>\n",
       "      <td>0.750000</td>\n",
       "      <td>1.333333</td>\n",
       "      <td>0.806528</td>\n",
       "      <td>0.193472</td>\n",
       "    </tr>\n",
       "    <tr>\n",
       "      <th>69315</th>\n",
       "      <td>177393</td>\n",
       "      <td>NaN</td>\n",
       "      <td>NaN</td>\n",
       "      <td>2204.0</td>\n",
       "      <td>2143.0</td>\n",
       "      <td>2363.0</td>\n",
       "      <td>2217.0</td>\n",
       "      <td>4742</td>\n",
       "      <td>25897</td>\n",
       "      <td>2.0</td>\n",
       "      <td>...</td>\n",
       "      <td>0.222222</td>\n",
       "      <td>0.000000</td>\n",
       "      <td>0.631579</td>\n",
       "      <td>0.368421</td>\n",
       "      <td>0.000000</td>\n",
       "      <td>0.000000</td>\n",
       "      <td>0.400000</td>\n",
       "      <td>2.500000</td>\n",
       "      <td>0.771114</td>\n",
       "      <td>0.228886</td>\n",
       "    </tr>\n",
       "    <tr>\n",
       "      <th>69316</th>\n",
       "      <td>177396</td>\n",
       "      <td>NaN</td>\n",
       "      <td>NaN</td>\n",
       "      <td>2204.0</td>\n",
       "      <td>2143.0</td>\n",
       "      <td>2159.0</td>\n",
       "      <td>2125.0</td>\n",
       "      <td>26577</td>\n",
       "      <td>25897</td>\n",
       "      <td>6.0</td>\n",
       "      <td>...</td>\n",
       "      <td>0.142857</td>\n",
       "      <td>0.066667</td>\n",
       "      <td>0.551724</td>\n",
       "      <td>0.448276</td>\n",
       "      <td>2.142857</td>\n",
       "      <td>0.466667</td>\n",
       "      <td>0.222222</td>\n",
       "      <td>4.500000</td>\n",
       "      <td>0.451226</td>\n",
       "      <td>0.548774</td>\n",
       "    </tr>\n",
       "    <tr>\n",
       "      <th>69317</th>\n",
       "      <td>177394</td>\n",
       "      <td>NaN</td>\n",
       "      <td>NaN</td>\n",
       "      <td>2159.0</td>\n",
       "      <td>2125.0</td>\n",
       "      <td>2273.0</td>\n",
       "      <td>2139.0</td>\n",
       "      <td>6219</td>\n",
       "      <td>26577</td>\n",
       "      <td>3.0</td>\n",
       "      <td>...</td>\n",
       "      <td>0.066667</td>\n",
       "      <td>0.062500</td>\n",
       "      <td>0.516129</td>\n",
       "      <td>0.483871</td>\n",
       "      <td>1.066667</td>\n",
       "      <td>0.937500</td>\n",
       "      <td>0.750000</td>\n",
       "      <td>1.333333</td>\n",
       "      <td>0.581301</td>\n",
       "      <td>0.418699</td>\n",
       "    </tr>\n",
       "    <tr>\n",
       "      <th>69318</th>\n",
       "      <td>177385</td>\n",
       "      <td>NaN</td>\n",
       "      <td>NaN</td>\n",
       "      <td>2425.0</td>\n",
       "      <td>2315.0</td>\n",
       "      <td>2250.0</td>\n",
       "      <td>2135.0</td>\n",
       "      <td>6407</td>\n",
       "      <td>4920</td>\n",
       "      <td>4.0</td>\n",
       "      <td>...</td>\n",
       "      <td>0.333333</td>\n",
       "      <td>0.000000</td>\n",
       "      <td>0.666667</td>\n",
       "      <td>0.333333</td>\n",
       "      <td>0.000000</td>\n",
       "      <td>0.000000</td>\n",
       "      <td>0.000000</td>\n",
       "      <td>0.000000</td>\n",
       "      <td>0.218885</td>\n",
       "      <td>0.781115</td>\n",
       "    </tr>\n",
       "  </tbody>\n",
       "</table>\n",
       "<p>69319 rows × 70 columns</p>\n",
       "</div>"
      ],
      "text/plain": [
       "       match_id  w_odds  l_odds  l_sf_elo  l_i_o_elo_rank  w_sf_elo  \\\n",
       "0         80931     NaN     NaN    2367.0          2367.0    1868.0   \n",
       "1         80965     NaN     NaN    1796.0          1796.0    1903.0   \n",
       "2         80966     NaN     NaN    1730.0          1730.0    1899.0   \n",
       "3         80967     NaN     NaN    1800.0          1800.0    1864.0   \n",
       "4         80968     NaN     NaN    1707.0          1707.0    1913.0   \n",
       "...         ...     ...     ...       ...             ...       ...   \n",
       "69314    177392     NaN     NaN    2159.0          2125.0    2363.0   \n",
       "69315    177393     NaN     NaN    2204.0          2143.0    2363.0   \n",
       "69316    177396     NaN     NaN    2204.0          2143.0    2159.0   \n",
       "69317    177394     NaN     NaN    2159.0          2125.0    2273.0   \n",
       "69318    177385     NaN     NaN    2425.0          2315.0    2250.0   \n",
       "\n",
       "       w_i_o_elo_rank  winner_id  loser_id  w_rank  ...  w_r_game_w  \\\n",
       "0              1868.0       1723      1414    56.0  ...    0.125000   \n",
       "1              1903.0       1439       857    70.0  ...    0.461538   \n",
       "2              1899.0       1735      1955    32.0  ...    0.600000   \n",
       "3              1864.0       1119      1532    83.0  ...    0.444444   \n",
       "4              1913.0        752      1601    79.0  ...    0.500000   \n",
       "...               ...        ...       ...     ...  ...         ...   \n",
       "69314          2217.0       4742     26577     2.0  ...    0.285714   \n",
       "69315          2217.0       4742     25897     2.0  ...    0.222222   \n",
       "69316          2125.0      26577     25897     6.0  ...    0.142857   \n",
       "69317          2139.0       6219     26577     3.0  ...    0.066667   \n",
       "69318          2135.0       6407      4920     4.0  ...    0.333333   \n",
       "\n",
       "       l_r_game_w    w_gm_w    l_gm_w  w_g_dominance  l_g_dominance  \\\n",
       "0        0.133333  0.483871  0.516129       0.937500       1.066667   \n",
       "1        0.357143  0.555556  0.444444       1.292308       0.773810   \n",
       "2        0.300000  0.650000  0.350000       2.000000       0.500000   \n",
       "3        0.200000  0.631579  0.315789       2.222222       0.450000   \n",
       "4        0.428571  0.535714  0.464286       1.166667       0.857143   \n",
       "...           ...       ...       ...            ...            ...   \n",
       "69314    0.142857  0.571429  0.428571       2.000000       0.500000   \n",
       "69315    0.000000  0.631579  0.368421       0.000000       0.000000   \n",
       "69316    0.066667  0.551724  0.448276       2.142857       0.466667   \n",
       "69317    0.062500  0.516129  0.483871       1.066667       0.937500   \n",
       "69318    0.000000  0.666667  0.333333       0.000000       0.000000   \n",
       "\n",
       "       w_br_ratio  l_br_ratio   w_win_p   l_win_p  \n",
       "0        0.500000    2.000000  0.053531  0.946469  \n",
       "1        1.320000    0.757576  0.649295  0.350705  \n",
       "2        1.230769    0.812500  0.725686  0.274314  \n",
       "3        3.250000    0.307692  0.591076  0.408924  \n",
       "4        0.583333    1.714286  0.765995  0.234005  \n",
       "...           ...         ...       ...       ...  \n",
       "69314    0.750000    1.333333  0.806528  0.193472  \n",
       "69315    0.400000    2.500000  0.771114  0.228886  \n",
       "69316    0.222222    4.500000  0.451226  0.548774  \n",
       "69317    0.750000    1.333333  0.581301  0.418699  \n",
       "69318    0.000000    0.000000  0.218885  0.781115  \n",
       "\n",
       "[69319 rows x 70 columns]"
      ]
     },
     "metadata": {},
     "output_type": "display_data"
    }
   ],
   "source": [
    "display(new_df)"
   ]
  },
  {
   "cell_type": "code",
   "execution_count": 8,
   "metadata": {},
   "outputs": [
    {
     "name": "stdout",
     "output_type": "stream",
     "text": [
      "_odds\n",
      "             w_odds        l_odds\n",
      "count  21784.000000  21784.000000\n",
      "mean       1.823308      3.038126\n",
      "std        0.930277      2.350008\n",
      "min        1.000000      1.010000\n",
      "25%        1.280000      1.660000\n",
      "50%        1.530000      2.370000\n",
      "75%        2.100000      3.500000\n",
      "max       19.000000     51.000000\n"
     ]
    },
    {
     "data": {
      "image/png": "[encoded data removed]",
      "text/plain": [
       "<Figure size 432x288 with 1 Axes>"
      ]
     },
     "metadata": {
      "needs_background": "light"
     },
     "output_type": "display_data"
    },
    {
     "name": "stdout",
     "output_type": "stream",
     "text": [
      "\n",
      "_sf_elo\n",
      "           w_sf_elo      l_sf_elo\n",
      "count  69319.000000  69319.000000\n",
      "mean    1964.685281   1889.426333\n",
      "std      168.230378    146.836087\n",
      "min     1400.000000   1338.000000\n",
      "25%     1852.000000   1793.000000\n",
      "50%     1950.000000   1883.000000\n",
      "75%     2060.000000   1978.000000\n",
      "max     2666.000000   2670.000000\n"
     ]
    },
    {
     "data": {
      "image/png": "[encoded data removed]",
      "text/plain": [
       "<Figure size 432x288 with 1 Axes>"
      ]
     },
     "metadata": {
      "needs_background": "light"
     },
     "output_type": "display_data"
    },
    {
     "name": "stdout",
     "output_type": "stream",
     "text": [
      "\n",
      "_i_o_elo_rank\n",
      "       w_i_o_elo_rank  l_i_o_elo_rank\n",
      "count    69319.000000    69319.000000\n",
      "mean      1951.212366     1880.483807\n",
      "std        161.213564      141.083309\n",
      "min       1400.000000     1338.000000\n",
      "25%       1843.000000     1786.000000\n",
      "50%       1935.000000     1874.000000\n",
      "75%       2045.000000     1965.000000\n",
      "max       2618.000000     2605.000000\n"
     ]
    },
    {
     "data": {
      "image/png": "[encoded data removed]",
      "text/plain": [
       "<Figure size 432x288 with 1 Axes>"
      ]
     },
     "metadata": {
      "needs_background": "light"
     },
     "output_type": "display_data"
    },
    {
     "name": "stdout",
     "output_type": "stream",
     "text": [
      "\n",
      "_rank\n",
      "             w_rank        l_rank\n",
      "count  69319.000000  69319.000000\n",
      "mean      65.696808    101.090408\n",
      "std       83.956497    135.938041\n",
      "min        1.000000      1.000000\n",
      "25%       20.000000     36.000000\n",
      "50%       46.000000     68.000000\n",
      "75%       84.000000    112.000000\n",
      "max     1890.000000   2159.000000\n"
     ]
    },
    {
     "data": {
      "image/png": "[encoded data removed]",
      "text/plain": [
       "<Figure size 432x288 with 1 Axes>"
      ]
     },
     "metadata": {
      "needs_background": "light"
     },
     "output_type": "display_data"
    },
    {
     "name": "stdout",
     "output_type": "stream",
     "text": [
      "\n",
      "_elo_r\n",
      "            w_elo_r       l_elo_r\n",
      "count  69319.000000  69319.000000\n",
      "mean    1956.375265   1886.787995\n",
      "std      160.608264    141.733841\n",
      "min     1400.000000   1338.000000\n",
      "25%     1850.000000   1793.000000\n",
      "50%     1942.000000   1881.000000\n",
      "75%     2050.000000   1972.000000\n",
      "max     2630.000000   2628.000000\n"
     ]
    },
    {
     "data": {
      "image/png": "[encoded data removed]",
      "text/plain": [
       "<Figure size 432x288 with 1 Axes>"
      ]
     },
     "metadata": {
      "needs_background": "light"
     },
     "output_type": "display_data"
    },
    {
     "name": "stdout",
     "output_type": "stream",
     "text": [
      "\n",
      "_ace\n",
      "              w_ace         l_ace\n",
      "count  69319.000000  69319.000000\n",
      "mean       0.085196      0.057839\n",
      "std        0.065836      0.048741\n",
      "min        0.000000      0.000000\n",
      "25%        0.036585      0.021277\n",
      "50%        0.070707      0.047059\n",
      "75%        0.118280      0.081395\n",
      "max        0.567568      0.400000\n"
     ]
    },
    {
     "data": {
      "image/png": "[encoded data removed]",
      "text/plain": [
       "<Figure size 432x288 with 1 Axes>"
      ]
     },
     "metadata": {
      "needs_background": "light"
     },
     "output_type": "display_data"
    },
    {
     "name": "stdout",
     "output_type": "stream",
     "text": [
      "\n",
      "_df\n",
      "               w_df          l_df\n",
      "count  69319.000000  69319.000000\n",
      "mean       0.034641      0.044694\n",
      "std        0.026952      0.032078\n",
      "min        0.000000      0.000000\n",
      "25%        0.015873      0.020408\n",
      "50%        0.030303      0.039216\n",
      "75%        0.050000      0.062500\n",
      "max        0.260274      0.354167\n"
     ]
    },
    {
     "data": {
      "image/png": "[encoded data removed]",
      "text/plain": [
       "<Figure size 432x288 with 1 Axes>"
      ]
     },
     "metadata": {
      "needs_background": "light"
     },
     "output_type": "display_data"
    },
    {
     "name": "stdout",
     "output_type": "stream",
     "text": [
      "\n",
      "_tt_p\n",
      "             w_tt_p        l_tt_p\n",
      "count  69319.000000  69319.000000\n",
      "mean       0.553940      0.446060\n",
      "std        0.040600      0.040600\n",
      "min        0.442922      0.172414\n",
      "25%        0.524862      0.423729\n",
      "50%        0.547445      0.452555\n",
      "75%        0.576271      0.475138\n",
      "max        0.827586      0.557078\n"
     ]
    },
    {
     "data": {
      "image/png": "[encoded data removed]",
      "text/plain": [
       "<Figure size 432x288 with 1 Axes>"
      ]
     },
     "metadata": {
      "needs_background": "light"
     },
     "output_type": "display_data"
    },
    {
     "name": "stdout",
     "output_type": "stream",
     "text": [
      "\n",
      "_sv_w\n",
      "             w_sv_w        l_sv_w\n",
      "count  69319.000000  69319.000000\n",
      "mean       0.683098      0.569422\n",
      "std        0.067739      0.075478\n",
      "min        0.323944      0.142857\n",
      "25%        0.636364      0.521739\n",
      "50%        0.679487      0.573034\n",
      "75%        0.727273      0.620000\n",
      "max        1.000000      0.913043\n"
     ]
    },
    {
     "data": {
      "image/png": "[encoded data removed]",
      "text/plain": [
       "<Figure size 432x288 with 1 Axes>"
      ]
     },
     "metadata": {
      "needs_background": "light"
     },
     "output_type": "display_data"
    },
    {
     "name": "stdout",
     "output_type": "stream",
     "text": [
      "\n",
      "_1st_w\n",
      "            w_1st_w       l_1st_w\n",
      "count  69319.000000  69319.000000\n",
      "mean       0.762950      0.656005\n",
      "std        0.084174      0.098067\n",
      "min        0.272727      0.055556\n",
      "25%        0.704545      0.593750\n",
      "50%        0.763158      0.659091\n",
      "75%        0.821429      0.724138\n",
      "max        1.000000      1.000000\n"
     ]
    },
    {
     "data": {
      "image/png": "[encoded data removed]",
      "text/plain": [
       "<Figure size 432x288 with 1 Axes>"
      ]
     },
     "metadata": {
      "needs_background": "light"
     },
     "output_type": "display_data"
    },
    {
     "name": "stdout",
     "output_type": "stream",
     "text": [
      "\n",
      "_2nd_w\n",
      "            w_2nd_w       l_2nd_w\n",
      "count  69319.000000  69319.000000\n",
      "mean       0.563494      0.450339\n",
      "std        0.105142      0.102958\n",
      "min        0.000000      0.000000\n",
      "25%        0.500000      0.384615\n",
      "50%        0.558824      0.452830\n",
      "75%        0.629630      0.518519\n",
      "max        1.000000      0.941176\n"
     ]
    },
    {
     "data": {
      "image/png": "[encoded data removed]",
      "text/plain": [
       "<Figure size 432x288 with 1 Axes>"
      ]
     },
     "metadata": {
      "needs_background": "light"
     },
     "output_type": "display_data"
    },
    {
     "name": "stdout",
     "output_type": "stream",
     "text": [
      "\n",
      "_bp_save\n",
      "          w_bp_save     l_bp_save\n",
      "count  69319.000000  69319.000000\n",
      "mean       0.594972      0.500883\n",
      "std        0.328451      0.203359\n",
      "min        0.000000      0.000000\n",
      "25%        0.444444      0.400000\n",
      "50%        0.666667      0.500000\n",
      "75%        0.833333      0.642857\n",
      "max        1.000000      1.000000\n"
     ]
    },
    {
     "data": {
      "image/png": "[encoded data removed]",
      "text/plain": [
       "<Figure size 432x288 with 1 Axes>"
      ]
     },
     "metadata": {
      "needs_background": "light"
     },
     "output_type": "display_data"
    },
    {
     "name": "stdout",
     "output_type": "stream",
     "text": [
      "\n",
      "_r_1st_w\n",
      "          w_r_1st_w     l_r_1st_w\n",
      "count  69319.000000  69319.000000\n",
      "mean       0.343995      0.237050\n",
      "std        0.098067      0.084174\n",
      "min        0.000000      0.000000\n",
      "25%        0.275862      0.178571\n",
      "50%        0.340909      0.236842\n",
      "75%        0.406250      0.295455\n",
      "max        0.944444      0.727273\n"
     ]
    },
    {
     "data": {
      "image/png": "[encoded data removed]",
      "text/plain": [
       "<Figure size 432x288 with 1 Axes>"
      ]
     },
     "metadata": {
      "needs_background": "light"
     },
     "output_type": "display_data"
    },
    {
     "name": "stdout",
     "output_type": "stream",
     "text": [
      "\n",
      "_bp_w\n",
      "             w_bp_w        l_bp_w\n",
      "count  69319.000000  69319.000000\n",
      "mean       0.499117      0.405028\n",
      "std        0.203359      0.328451\n",
      "min        0.000000      0.000000\n",
      "25%        0.357143      0.166667\n",
      "50%        0.500000      0.333333\n",
      "75%        0.600000      0.555556\n",
      "max        1.000000      1.000000\n"
     ]
    },
    {
     "data": {
      "image/png": "[encoded data removed]",
      "text/plain": [
       "<Figure size 432x288 with 1 Axes>"
      ]
     },
     "metadata": {
      "needs_background": "light"
     },
     "output_type": "display_data"
    },
    {
     "name": "stdout",
     "output_type": "stream",
     "text": [
      "\n",
      "_rp_w\n",
      "             w_rp_w        l_rp_w\n",
      "count  69319.000000  69319.000000\n",
      "mean       0.430578      0.316902\n",
      "std        0.075478      0.067739\n",
      "min        0.086957      0.000000\n",
      "25%        0.380000      0.272727\n",
      "50%        0.426966      0.320513\n",
      "75%        0.478261      0.363636\n",
      "max        0.857143      0.676056\n"
     ]
    },
    {
     "data": {
      "image/png": "[encoded data removed]",
      "text/plain": [
       "<Figure size 432x288 with 1 Axes>"
      ]
     },
     "metadata": {
      "needs_background": "light"
     },
     "output_type": "display_data"
    },
    {
     "name": "stdout",
     "output_type": "stream",
     "text": [
      "\n",
      "_p_dominance\n",
      "       w_p_dominance  l_p_dominance\n",
      "count   6.931900e+04   69319.000000\n",
      "mean             inf       0.752883\n",
      "std              NaN       0.181321\n",
      "min     5.333333e-01       0.000000\n",
      "25%     1.140508e+00       0.633638\n",
      "50%     1.314286e+00       0.760870\n",
      "75%     1.578187e+00       0.876802\n",
      "max              inf       1.875000\n"
     ]
    },
    {
     "data": {
      "image/png": "[encoded data removed]",
      "text/plain": [
       "<Figure size 432x288 with 1 Axes>"
      ]
     },
     "metadata": {
      "needs_background": "light"
     },
     "output_type": "display_data"
    },
    {
     "name": "stdout",
     "output_type": "stream",
     "text": [
      "\n",
      "_ace_game\n",
      "         w_ace_game    l_ace_game\n",
      "count  69319.000000  69319.000000\n",
      "mean       0.518077      0.376540\n",
      "std        0.384064      0.312110\n",
      "min        0.000000      0.000000\n",
      "25%        0.222222      0.133333\n",
      "50%        0.444444      0.307692\n",
      "75%        0.727273      0.533333\n",
      "max        2.933333      2.545455\n"
     ]
    },
    {
     "data": {
      "image/png": "[encoded data removed]",
      "text/plain": [
       "<Figure size 432x288 with 1 Axes>"
      ]
     },
     "metadata": {
      "needs_background": "light"
     },
     "output_type": "display_data"
    },
    {
     "name": "stdout",
     "output_type": "stream",
     "text": [
      "\n",
      "_df_game\n",
      "          w_df_game     l_df_game\n",
      "count  69319.000000  69319.000000\n",
      "mean       0.218538      0.295197\n",
      "std        0.174592      0.215141\n",
      "min        0.000000      0.000000\n",
      "25%        0.100000      0.125000\n",
      "50%        0.200000      0.250000\n",
      "75%        0.307692      0.400000\n",
      "max        1.900000      2.428571\n"
     ]
    },
    {
     "data": {
      "image/png": "[encoded data removed]",
      "text/plain": [
       "<Figure size 432x288 with 1 Axes>"
      ]
     },
     "metadata": {
      "needs_background": "light"
     },
     "output_type": "display_data"
    },
    {
     "name": "stdout",
     "output_type": "stream",
     "text": [
      "\n",
      "_df_2nd_sv\n",
      "        w_df_2nd_sv   l_df_2nd_sv\n",
      "count  69319.000000  69319.000000\n",
      "mean       0.087671      0.107527\n",
      "std        0.066403      0.073473\n",
      "min        0.000000      0.000000\n",
      "25%        0.041667      0.054054\n",
      "50%        0.078947      0.096774\n",
      "75%        0.125000      0.148148\n",
      "max        1.000000      0.666667\n"
     ]
    },
    {
     "data": {
      "image/png": "[encoded data removed]",
      "text/plain": [
       "<Figure size 432x288 with 1 Axes>"
      ]
     },
     "metadata": {
      "needs_background": "light"
     },
     "output_type": "display_data"
    },
    {
     "name": "stdout",
     "output_type": "stream",
     "text": [
      "\n",
      "_ace_df_ratio\n",
      "       w_ace_df_ratio  l_ace_df_ratio\n",
      "count    69319.000000    69319.000000\n",
      "mean         2.446790        1.621057\n",
      "std          2.931425        2.131584\n",
      "min          0.000000        0.000000\n",
      "25%          0.500000        0.333333\n",
      "50%          1.500000        1.000000\n",
      "75%          3.250000        2.000000\n",
      "max         43.000000       38.000000\n"
     ]
    },
    {
     "data": {
      "image/png": "[encoded data removed]",
      "text/plain": [
       "<Figure size 432x288 with 1 Axes>"
      ]
     },
     "metadata": {
      "needs_background": "light"
     },
     "output_type": "display_data"
    },
    {
     "name": "stdout",
     "output_type": "stream",
     "text": [
      "\n",
      "_1st_sv_eff\n",
      "       w_1st_sv_eff  l_1st_sv_eff\n",
      "count  6.931900e+04  6.931900e+04\n",
      "mean            inf           inf\n",
      "std             NaN           NaN\n",
      "min    5.555556e-01  1.851852e-01\n",
      "25%    1.187358e+00  1.237777e+00\n",
      "50%    1.360490e+00  1.459784e+00\n",
      "75%    1.565657e+00  1.741883e+00\n",
      "max             inf           inf\n"
     ]
    },
    {
     "data": {
      "image/png": "[encoded data removed]",
      "text/plain": [
       "<Figure size 432x288 with 1 Axes>"
      ]
     },
     "metadata": {
      "needs_background": "light"
     },
     "output_type": "display_data"
    },
    {
     "name": "stdout",
     "output_type": "stream",
     "text": [
      "\n",
      "_sv_ip_w\n",
      "          w_sv_ip_w     l_sv_ip_w\n",
      "count  69319.000000  69319.000000\n",
      "mean       0.639620      0.519562\n",
      "std        0.073146      0.082520\n",
      "min        0.323944      0.000000\n",
      "25%        0.589474      0.470000\n",
      "50%        0.636364      0.525000\n",
      "75%        0.686808      0.575000\n",
      "max        1.000000      0.909091\n"
     ]
    },
    {
     "data": {
      "image/png": "[encoded data removed]",
      "text/plain": [
       "<Figure size 432x288 with 1 Axes>"
      ]
     },
     "metadata": {
      "needs_background": "light"
     },
     "output_type": "display_data"
    },
    {
     "name": "stdout",
     "output_type": "stream",
     "text": [
      "\n",
      "_ploss_game\n",
      "       w_ploss_game  l_ploss_game\n",
      "count  69319.000000  69319.000000\n",
      "mean       2.012527      2.852028\n",
      "std        0.611229      0.656594\n",
      "min        0.000000      0.500000\n",
      "25%        1.583333      2.400000\n",
      "50%        2.000000      2.800000\n",
      "75%        2.416667      3.250000\n",
      "max        6.000000      7.000000\n"
     ]
    },
    {
     "data": {
      "image/png": "[encoded data removed]",
      "text/plain": [
       "<Figure size 432x288 with 1 Axes>"
      ]
     },
     "metadata": {
      "needs_background": "light"
     },
     "output_type": "display_data"
    },
    {
     "name": "stdout",
     "output_type": "stream",
     "text": [
      "\n",
      "_bpf_game\n",
      "         w_bpf_game    l_bpf_game\n",
      "count  69319.000000  69319.000000\n",
      "mean       0.405644      0.754521\n",
      "std        0.282413      0.352434\n",
      "min        0.000000      0.000000\n",
      "25%        0.200000      0.500000\n",
      "50%        0.375000      0.714286\n",
      "75%        0.571429      1.000000\n",
      "max        3.666667      3.285714\n"
     ]
    },
    {
     "data": {
      "image/png": "[encoded data removed]",
      "text/plain": [
       "<Figure size 432x288 with 1 Axes>"
      ]
     },
     "metadata": {
      "needs_background": "light"
     },
     "output_type": "display_data"
    },
    {
     "name": "stdout",
     "output_type": "stream",
     "text": [
      "\n",
      "_svp_game\n",
      "         w_svp_game    l_svp_game\n",
      "count  69319.000000  69319.000000\n",
      "mean       0.876436      0.649822\n",
      "std        0.106815      0.168023\n",
      "min        0.230769      0.000000\n",
      "25%        0.800000      0.555556\n",
      "50%        0.888889      0.666667\n",
      "75%        1.000000      0.777778\n",
      "max        1.000000      1.000000\n"
     ]
    },
    {
     "data": {
      "image/png": "[encoded data removed]",
      "text/plain": [
       "<Figure size 432x288 with 1 Axes>"
      ]
     },
     "metadata": {
      "needs_background": "light"
     },
     "output_type": "display_data"
    },
    {
     "name": "stdout",
     "output_type": "stream",
     "text": [
      "\n",
      "_r_ip_w\n",
      "           w_r_ip_w      l_r_ip_w\n",
      "count  69319.000000  69319.000000\n",
      "mean       0.480438      0.360380\n",
      "std        0.082520      0.073146\n",
      "min        0.090909      0.000000\n",
      "25%        0.425000      0.313192\n",
      "50%        0.475000      0.363636\n",
      "75%        0.530000      0.410526\n",
      "max        1.000000      0.676056\n"
     ]
    },
    {
     "data": {
      "image/png": "[encoded data removed]",
      "text/plain": [
       "<Figure size 432x288 with 1 Axes>"
      ]
     },
     "metadata": {
      "needs_background": "light"
     },
     "output_type": "display_data"
    },
    {
     "name": "stdout",
     "output_type": "stream",
     "text": [
      "\n",
      "_pwon_r_game\n",
      "       w_pwon_r_game  l_pwon_r_game\n",
      "count   69319.000000   69319.000000\n",
      "mean        2.852028       2.012527\n",
      "std         0.656594       0.611229\n",
      "min         0.500000       0.000000\n",
      "25%         2.400000       1.583333\n",
      "50%         2.800000       2.000000\n",
      "75%         3.250000       2.416667\n",
      "max         7.000000       6.000000\n"
     ]
    },
    {
     "data": {
      "image/png": "[encoded data removed]",
      "text/plain": [
       "<Figure size 432x288 with 1 Axes>"
      ]
     },
     "metadata": {
      "needs_background": "light"
     },
     "output_type": "display_data"
    },
    {
     "name": "stdout",
     "output_type": "stream",
     "text": [
      "\n",
      "_bp_game\n",
      "          w_bp_game     l_bp_game\n",
      "count  69319.000000  69319.000000\n",
      "mean       0.754521      0.405644\n",
      "std        0.352434      0.282413\n",
      "min        0.000000      0.000000\n",
      "25%        0.500000      0.200000\n",
      "50%        0.714286      0.375000\n",
      "75%        1.000000      0.571429\n",
      "max        3.285714      3.666667\n"
     ]
    },
    {
     "data": {
      "image/png": "[encoded data removed]",
      "text/plain": [
       "<Figure size 432x288 with 1 Axes>"
      ]
     },
     "metadata": {
      "needs_background": "light"
     },
     "output_type": "display_data"
    },
    {
     "name": "stdout",
     "output_type": "stream",
     "text": [
      "\n",
      "_r_game_w\n",
      "         w_r_game_w    l_r_game_w\n",
      "count  69319.000000  69319.000000\n",
      "mean       0.350178      0.123564\n",
      "std        0.168023      0.106815\n",
      "min        0.000000      0.000000\n",
      "25%        0.222222      0.000000\n",
      "50%        0.333333      0.111111\n",
      "75%        0.444444      0.200000\n",
      "max        1.000000      0.769231\n"
     ]
    },
    {
     "data": {
      "image/png": "[encoded data removed]",
      "text/plain": [
       "<Figure size 432x288 with 1 Axes>"
      ]
     },
     "metadata": {
      "needs_background": "light"
     },
     "output_type": "display_data"
    },
    {
     "name": "stdout",
     "output_type": "stream",
     "text": [
      "\n",
      "_gm_w\n",
      "             w_gm_w        l_gm_w\n",
      "count  69319.000000  69319.000000\n",
      "mean       0.616102      0.384134\n",
      "std        0.088671      0.088923\n",
      "min        0.000000      0.000000\n",
      "25%        0.545455      0.333333\n",
      "50%        0.600000      0.400000\n",
      "75%        0.666667      0.454545\n",
      "max        1.000000      1.000000\n"
     ]
    },
    {
     "data": {
      "image/png": "[encoded data removed]",
      "text/plain": [
       "<Figure size 432x288 with 1 Axes>"
      ]
     },
     "metadata": {
      "needs_background": "light"
     },
     "output_type": "display_data"
    },
    {
     "name": "stdout",
     "output_type": "stream",
     "text": [
      "\n",
      "_g_dominance\n",
      "       w_g_dominance  l_g_dominance\n",
      "count   69319.000000   69319.000000\n",
      "mean        1.703224       0.396346\n",
      "std         1.498730       0.369293\n",
      "min         0.000000       0.000000\n",
      "25%         0.000000       0.000000\n",
      "50%         1.500000       0.333333\n",
      "75%         2.678571       0.606061\n",
      "max         7.000000       4.000000\n"
     ]
    },
    {
     "data": {
      "image/png": "[encoded data removed]",
      "text/plain": [
       "<Figure size 432x288 with 1 Axes>"
      ]
     },
     "metadata": {
      "needs_background": "light"
     },
     "output_type": "display_data"
    },
    {
     "name": "stdout",
     "output_type": "stream",
     "text": [
      "\n",
      "_br_ratio\n",
      "         w_br_ratio    l_br_ratio\n",
      "count  69319.000000  69319.000000\n",
      "mean       1.155665      0.937613\n",
      "std        1.176477      0.964768\n",
      "min        0.000000      0.000000\n",
      "25%        0.400000      0.312500\n",
      "50%        0.892857      0.727273\n",
      "75%        1.600000      1.300000\n",
      "max       14.000000     17.000000\n"
     ]
    },
    {
     "data": {
      "image/png": "[encoded data removed]",
      "text/plain": [
       "<Figure size 432x288 with 1 Axes>"
      ]
     },
     "metadata": {
      "needs_background": "light"
     },
     "output_type": "display_data"
    },
    {
     "name": "stdout",
     "output_type": "stream",
     "text": [
      "\n",
      "_win_p\n",
      "            w_win_p       l_win_p\n",
      "count  69319.000000  69319.000000\n",
      "mean       0.581011      0.418989\n",
      "std        0.202331      0.202331\n",
      "min        0.010187      0.005624\n",
      "25%        0.434185      0.259672\n",
      "50%        0.593855      0.406145\n",
      "75%        0.740328      0.565815\n",
      "max        0.994376      0.989813\n"
     ]
    },
    {
     "data": {
      "image/png": "[encoded data removed]",
      "text/plain": [
       "<Figure size 432x288 with 1 Axes>"
      ]
     },
     "metadata": {
      "needs_background": "light"
     },
     "output_type": "display_data"
    },
    {
     "name": "stdout",
     "output_type": "stream",
     "text": [
      "\n"
     ]
    }
   ],
   "source": [
    "columns=[column[1:] for column in new_df.columns if \"w_\" in column]\n",
    "for column in columns:\n",
    "    print(column)\n",
    "    print(new_df[['w'+column,'l'+column,]].describe())\n",
    "    new_df.boxplot(['w'+column,'l'+column])\n",
    "    plt.show()\n",
    "    print()"
   ]
  },
  {
   "cell_type": "code",
   "execution_count": 6,
   "metadata": {},
   "outputs": [
    {
     "name": "stdout",
     "output_type": "stream",
     "text": [
      "Empty DataFrame\n",
      "Columns: [w_br_ratio]\n",
      "Index: []\n",
      "match_id           0\n",
      "l_ace_game         0\n",
      "w_df_game          0\n",
      "l_df_game          0\n",
      "w_df_2nd_sv        0\n",
      "               ...  \n",
      "w_sv_w             0\n",
      "w_bp_save          0\n",
      "l_win_p            0\n",
      "l_odds         47535\n",
      "w_odds         47535\n",
      "Length: 70, dtype: int64\n"
     ]
    }
   ],
   "source": [
    "print(new_df[new_df['w_br_ratio'].isna()][['w_br_ratio',]])\n",
    "print(new_df.isna().sum().sort_values())"
   ]
  },
  {
   "cell_type": "code",
   "execution_count": 7,
   "metadata": {},
   "outputs": [
    {
     "data": {
      "text/plain": [
       "<AxesSubplot:>"
      ]
     },
     "execution_count": 7,
     "metadata": {},
     "output_type": "execute_result"
    },
    {
     "data": {
      "image/png": "[encoded data removed]",
      "text/plain": [
       "<Figure size 432x288 with 1 Axes>"
      ]
     },
     "metadata": {
      "needs_background": "light"
     },
     "output_type": "display_data"
    }
   ],
   "source": [
    "new_df.boxplot(['w_sv_w','l_sv_w'])"
   ]
  },
  {
   "cell_type": "code",
   "execution_count": 2,
   "metadata": {},
   "outputs": [
    {
     "data": {
      "text/html": [
       "<div>\n",
       "<style scoped>\n",
       "    .dataframe tbody tr th:only-of-type {\n",
       "        vertical-align: middle;\n",
       "    }\n",
       "\n",
       "    .dataframe tbody tr th {\n",
       "        vertical-align: top;\n",
       "    }\n",
       "\n",
       "    .dataframe thead th {\n",
       "        text-align: right;\n",
       "    }\n",
       "</style>\n",
       "<table border=\"1\" class=\"dataframe\">\n",
       "  <thead>\n",
       "    <tr style=\"text-align: right;\">\n",
       "      <th></th>\n",
       "      <th>name</th>\n",
       "      <th>outcome</th>\n",
       "      <th>match_id</th>\n",
       "      <th>date</th>\n",
       "      <th>first_name</th>\n",
       "      <th>last_name</th>\n",
       "      <th>first_name</th>\n",
       "      <th>last_name</th>\n",
       "    </tr>\n",
       "  </thead>\n",
       "  <tbody>\n",
       "    <tr>\n",
       "      <th>0</th>\n",
       "      <td>Rotterdam</td>\n",
       "      <td>None</td>\n",
       "      <td>125282</td>\n",
       "      <td>2003-02-17</td>\n",
       "      <td>Sjeng</td>\n",
       "      <td>Schalken</td>\n",
       "      <td>Christophe</td>\n",
       "      <td>Rochus</td>\n",
       "    </tr>\n",
       "  </tbody>\n",
       "</table>\n",
       "</div>"
      ],
      "text/plain": [
       "        name outcome  match_id        date first_name last_name  first_name  \\\n",
       "0  Rotterdam    None    125282  2003-02-17      Sjeng  Schalken  Christophe   \n",
       "\n",
       "  last_name  \n",
       "0    Rochus  "
      ]
     },
     "execution_count": 2,
     "metadata": {},
     "output_type": "execute_result"
    }
   ],
   "source": [
    "data_extractor.get_match_details(125282)"
   ]
  },
  {
   "cell_type": "code",
   "execution_count": 9,
   "metadata": {},
   "outputs": [],
   "source": [
    "import researchpy as rp\n",
    "\n",
    "def ttest(column):\n",
    "    return rp.ttest(group1=new_df[\"w\"+column], group1_name= \"Winner\",\n",
    "                    group2=new_df[\"l\"+column], group2_name= \"Loser\")"
   ]
  },
  {
   "cell_type": "code",
   "execution_count": 10,
   "metadata": {},
   "outputs": [
    {
     "name": "stderr",
     "output_type": "stream",
     "text": [
      "/usr/local/lib/python3.9/site-packages/numpy/core/_methods.py:230: RuntimeWarning: invalid value encountered in subtract\n",
      "  x = asanyarray(arr - arrmean)\n",
      "/usr/local/lib/python3.9/site-packages/researchpy/ttest.py:19: RuntimeWarning: invalid value encountered in double_scalars\n",
      "  groups_diff = numpy.mean(group1) - numpy.mean(group2)\n",
      "/usr/local/lib/python3.9/site-packages/scipy/stats/stats.py:5681: RuntimeWarning: invalid value encountered in double_scalars\n",
      "  d = mean1 - mean2\n",
      "/usr/local/lib/python3.9/site-packages/researchpy/ttest.py:36: RuntimeWarning: invalid value encountered in double_scalars\n",
      "  d = (group1.mean() - group2.mean()) / numpy.sqrt(((group1.count() - 1) * group1.std()**2 + (group2.count() - 1) * group2.std()**2) / (group1.count() + group2.count() - 2))\n",
      "/usr/local/lib/python3.9/site-packages/researchpy/ttest.py:40: RuntimeWarning: invalid value encountered in double_scalars\n",
      "  cles = 0 - abs(group1.mean() - group2.mean()) / numpy.sqrt(group1.var() + group2.var())\n",
      "/usr/local/lib/python3.9/site-packages/researchpy/ttest.py:47: RuntimeWarning: invalid value encountered in double_scalars\n",
      "  delta = (group1.mean() - group2.mean()) / group1.std()\n"
     ]
    },
    {
     "data": {
      "text/html": [
       "<div>\n",
       "<style scoped>\n",
       "    .dataframe tbody tr th:only-of-type {\n",
       "        vertical-align: middle;\n",
       "    }\n",
       "\n",
       "    .dataframe tbody tr th {\n",
       "        vertical-align: top;\n",
       "    }\n",
       "\n",
       "    .dataframe thead th {\n",
       "        text-align: right;\n",
       "    }\n",
       "</style>\n",
       "<table border=\"1\" class=\"dataframe\">\n",
       "  <thead>\n",
       "    <tr style=\"text-align: right;\">\n",
       "      <th></th>\n",
       "      <th>Variable</th>\n",
       "      <th>N</th>\n",
       "      <th>Mean Winner</th>\n",
       "      <th>Mean Loser</th>\n",
       "      <th>Difference</th>\n",
       "      <th>Dif. &lt; 0 p value</th>\n",
       "      <th>Dif. &gt; 0 p value</th>\n",
       "    </tr>\n",
       "  </thead>\n",
       "  <tbody>\n",
       "    <tr>\n",
       "      <th>0</th>\n",
       "      <td>odds</td>\n",
       "      <td>21784</td>\n",
       "      <td>1.82</td>\n",
       "      <td>3.04</td>\n",
       "      <td>-1.21</td>\n",
       "      <td>0.0</td>\n",
       "      <td>1.0</td>\n",
       "    </tr>\n",
       "    <tr>\n",
       "      <th>1</th>\n",
       "      <td>sf_elo</td>\n",
       "      <td>69319</td>\n",
       "      <td>1964.69</td>\n",
       "      <td>1889.43</td>\n",
       "      <td>75.26</td>\n",
       "      <td>1.0</td>\n",
       "      <td>0.0</td>\n",
       "    </tr>\n",
       "    <tr>\n",
       "      <th>2</th>\n",
       "      <td>i_o_elo_rank</td>\n",
       "      <td>69319</td>\n",
       "      <td>1951.21</td>\n",
       "      <td>1880.48</td>\n",
       "      <td>70.73</td>\n",
       "      <td>1.0</td>\n",
       "      <td>0.0</td>\n",
       "    </tr>\n",
       "    <tr>\n",
       "      <th>3</th>\n",
       "      <td>rank</td>\n",
       "      <td>69319</td>\n",
       "      <td>65.7</td>\n",
       "      <td>101.09</td>\n",
       "      <td>-35.39</td>\n",
       "      <td>0.0</td>\n",
       "      <td>1.0</td>\n",
       "    </tr>\n",
       "    <tr>\n",
       "      <th>4</th>\n",
       "      <td>elo_r</td>\n",
       "      <td>69319</td>\n",
       "      <td>1956.38</td>\n",
       "      <td>1886.79</td>\n",
       "      <td>69.59</td>\n",
       "      <td>1.0</td>\n",
       "      <td>0.0</td>\n",
       "    </tr>\n",
       "    <tr>\n",
       "      <th>5</th>\n",
       "      <td>ace</td>\n",
       "      <td>69319</td>\n",
       "      <td>0.09</td>\n",
       "      <td>0.06</td>\n",
       "      <td>0.03</td>\n",
       "      <td>1.0</td>\n",
       "      <td>0.0</td>\n",
       "    </tr>\n",
       "    <tr>\n",
       "      <th>6</th>\n",
       "      <td>df</td>\n",
       "      <td>69319</td>\n",
       "      <td>0.03</td>\n",
       "      <td>0.04</td>\n",
       "      <td>-0.01</td>\n",
       "      <td>0.0</td>\n",
       "      <td>1.0</td>\n",
       "    </tr>\n",
       "    <tr>\n",
       "      <th>7</th>\n",
       "      <td>tt_p</td>\n",
       "      <td>69319</td>\n",
       "      <td>0.55</td>\n",
       "      <td>0.45</td>\n",
       "      <td>0.11</td>\n",
       "      <td>1.0</td>\n",
       "      <td>0.0</td>\n",
       "    </tr>\n",
       "    <tr>\n",
       "      <th>8</th>\n",
       "      <td>sv_w</td>\n",
       "      <td>69319</td>\n",
       "      <td>0.68</td>\n",
       "      <td>0.57</td>\n",
       "      <td>0.11</td>\n",
       "      <td>1.0</td>\n",
       "      <td>0.0</td>\n",
       "    </tr>\n",
       "    <tr>\n",
       "      <th>9</th>\n",
       "      <td>1st_w</td>\n",
       "      <td>69319</td>\n",
       "      <td>0.76</td>\n",
       "      <td>0.66</td>\n",
       "      <td>0.11</td>\n",
       "      <td>1.0</td>\n",
       "      <td>0.0</td>\n",
       "    </tr>\n",
       "    <tr>\n",
       "      <th>10</th>\n",
       "      <td>2nd_w</td>\n",
       "      <td>69319</td>\n",
       "      <td>0.56</td>\n",
       "      <td>0.45</td>\n",
       "      <td>0.11</td>\n",
       "      <td>1.0</td>\n",
       "      <td>0.0</td>\n",
       "    </tr>\n",
       "    <tr>\n",
       "      <th>11</th>\n",
       "      <td>bp_save</td>\n",
       "      <td>69319</td>\n",
       "      <td>0.59</td>\n",
       "      <td>0.5</td>\n",
       "      <td>0.09</td>\n",
       "      <td>1.0</td>\n",
       "      <td>0.0</td>\n",
       "    </tr>\n",
       "    <tr>\n",
       "      <th>12</th>\n",
       "      <td>r_1st_w</td>\n",
       "      <td>69319</td>\n",
       "      <td>0.34</td>\n",
       "      <td>0.24</td>\n",
       "      <td>0.11</td>\n",
       "      <td>1.0</td>\n",
       "      <td>0.0</td>\n",
       "    </tr>\n",
       "    <tr>\n",
       "      <th>13</th>\n",
       "      <td>bp_w</td>\n",
       "      <td>69319</td>\n",
       "      <td>0.5</td>\n",
       "      <td>0.41</td>\n",
       "      <td>0.09</td>\n",
       "      <td>1.0</td>\n",
       "      <td>0.0</td>\n",
       "    </tr>\n",
       "    <tr>\n",
       "      <th>14</th>\n",
       "      <td>rp_w</td>\n",
       "      <td>69319</td>\n",
       "      <td>0.43</td>\n",
       "      <td>0.32</td>\n",
       "      <td>0.11</td>\n",
       "      <td>1.0</td>\n",
       "      <td>0.0</td>\n",
       "    </tr>\n",
       "    <tr>\n",
       "      <th>15</th>\n",
       "      <td>p_dominance</td>\n",
       "      <td>69319</td>\n",
       "      <td>inf</td>\n",
       "      <td>0.75</td>\n",
       "      <td>inf</td>\n",
       "      <td>nan</td>\n",
       "      <td>nan</td>\n",
       "    </tr>\n",
       "    <tr>\n",
       "      <th>16</th>\n",
       "      <td>ace_game</td>\n",
       "      <td>69319</td>\n",
       "      <td>0.52</td>\n",
       "      <td>0.38</td>\n",
       "      <td>0.14</td>\n",
       "      <td>1.0</td>\n",
       "      <td>0.0</td>\n",
       "    </tr>\n",
       "    <tr>\n",
       "      <th>17</th>\n",
       "      <td>df_game</td>\n",
       "      <td>69319</td>\n",
       "      <td>0.22</td>\n",
       "      <td>0.3</td>\n",
       "      <td>-0.08</td>\n",
       "      <td>0.0</td>\n",
       "      <td>1.0</td>\n",
       "    </tr>\n",
       "    <tr>\n",
       "      <th>18</th>\n",
       "      <td>df_2nd_sv</td>\n",
       "      <td>69319</td>\n",
       "      <td>0.09</td>\n",
       "      <td>0.11</td>\n",
       "      <td>-0.02</td>\n",
       "      <td>0.0</td>\n",
       "      <td>1.0</td>\n",
       "    </tr>\n",
       "    <tr>\n",
       "      <th>19</th>\n",
       "      <td>ace_df_ratio</td>\n",
       "      <td>69319</td>\n",
       "      <td>2.45</td>\n",
       "      <td>1.62</td>\n",
       "      <td>0.83</td>\n",
       "      <td>1.0</td>\n",
       "      <td>0.0</td>\n",
       "    </tr>\n",
       "    <tr>\n",
       "      <th>20</th>\n",
       "      <td>1st_sv_eff</td>\n",
       "      <td>69319</td>\n",
       "      <td>inf</td>\n",
       "      <td>inf</td>\n",
       "      <td>nan</td>\n",
       "      <td>nan</td>\n",
       "      <td>nan</td>\n",
       "    </tr>\n",
       "    <tr>\n",
       "      <th>21</th>\n",
       "      <td>sv_ip_w</td>\n",
       "      <td>69319</td>\n",
       "      <td>0.64</td>\n",
       "      <td>0.52</td>\n",
       "      <td>0.12</td>\n",
       "      <td>1.0</td>\n",
       "      <td>0.0</td>\n",
       "    </tr>\n",
       "    <tr>\n",
       "      <th>22</th>\n",
       "      <td>ploss_game</td>\n",
       "      <td>69319</td>\n",
       "      <td>2.01</td>\n",
       "      <td>2.85</td>\n",
       "      <td>-0.84</td>\n",
       "      <td>0.0</td>\n",
       "      <td>1.0</td>\n",
       "    </tr>\n",
       "    <tr>\n",
       "      <th>23</th>\n",
       "      <td>bpf_game</td>\n",
       "      <td>69319</td>\n",
       "      <td>0.41</td>\n",
       "      <td>0.75</td>\n",
       "      <td>-0.35</td>\n",
       "      <td>0.0</td>\n",
       "      <td>1.0</td>\n",
       "    </tr>\n",
       "    <tr>\n",
       "      <th>24</th>\n",
       "      <td>svp_game</td>\n",
       "      <td>69319</td>\n",
       "      <td>0.88</td>\n",
       "      <td>0.65</td>\n",
       "      <td>0.23</td>\n",
       "      <td>1.0</td>\n",
       "      <td>0.0</td>\n",
       "    </tr>\n",
       "    <tr>\n",
       "      <th>25</th>\n",
       "      <td>r_ip_w</td>\n",
       "      <td>69319</td>\n",
       "      <td>0.48</td>\n",
       "      <td>0.36</td>\n",
       "      <td>0.12</td>\n",
       "      <td>1.0</td>\n",
       "      <td>0.0</td>\n",
       "    </tr>\n",
       "    <tr>\n",
       "      <th>26</th>\n",
       "      <td>pwon_r_game</td>\n",
       "      <td>69319</td>\n",
       "      <td>2.85</td>\n",
       "      <td>2.01</td>\n",
       "      <td>0.84</td>\n",
       "      <td>1.0</td>\n",
       "      <td>0.0</td>\n",
       "    </tr>\n",
       "    <tr>\n",
       "      <th>27</th>\n",
       "      <td>bp_game</td>\n",
       "      <td>69319</td>\n",
       "      <td>0.75</td>\n",
       "      <td>0.41</td>\n",
       "      <td>0.35</td>\n",
       "      <td>1.0</td>\n",
       "      <td>0.0</td>\n",
       "    </tr>\n",
       "    <tr>\n",
       "      <th>28</th>\n",
       "      <td>r_game_w</td>\n",
       "      <td>69319</td>\n",
       "      <td>0.35</td>\n",
       "      <td>0.12</td>\n",
       "      <td>0.23</td>\n",
       "      <td>1.0</td>\n",
       "      <td>0.0</td>\n",
       "    </tr>\n",
       "    <tr>\n",
       "      <th>29</th>\n",
       "      <td>gm_w</td>\n",
       "      <td>69319</td>\n",
       "      <td>0.62</td>\n",
       "      <td>0.38</td>\n",
       "      <td>0.23</td>\n",
       "      <td>1.0</td>\n",
       "      <td>0.0</td>\n",
       "    </tr>\n",
       "    <tr>\n",
       "      <th>30</th>\n",
       "      <td>g_dominance</td>\n",
       "      <td>69319</td>\n",
       "      <td>1.7</td>\n",
       "      <td>0.4</td>\n",
       "      <td>1.31</td>\n",
       "      <td>1.0</td>\n",
       "      <td>0.0</td>\n",
       "    </tr>\n",
       "    <tr>\n",
       "      <th>31</th>\n",
       "      <td>br_ratio</td>\n",
       "      <td>69319</td>\n",
       "      <td>1.16</td>\n",
       "      <td>0.94</td>\n",
       "      <td>0.22</td>\n",
       "      <td>1.0</td>\n",
       "      <td>0.0</td>\n",
       "    </tr>\n",
       "    <tr>\n",
       "      <th>32</th>\n",
       "      <td>win_p</td>\n",
       "      <td>69319</td>\n",
       "      <td>0.58</td>\n",
       "      <td>0.42</td>\n",
       "      <td>0.16</td>\n",
       "      <td>1.0</td>\n",
       "      <td>0.0</td>\n",
       "    </tr>\n",
       "  </tbody>\n",
       "</table>\n",
       "</div>"
      ],
      "text/plain": [
       "        Variable      N Mean Winner Mean Loser Difference Dif. < 0 p value  \\\n",
       "0           odds  21784        1.82       3.04      -1.21              0.0   \n",
       "1         sf_elo  69319     1964.69    1889.43      75.26              1.0   \n",
       "2   i_o_elo_rank  69319     1951.21    1880.48      70.73              1.0   \n",
       "3           rank  69319        65.7     101.09     -35.39              0.0   \n",
       "4          elo_r  69319     1956.38    1886.79      69.59              1.0   \n",
       "5            ace  69319        0.09       0.06       0.03              1.0   \n",
       "6             df  69319        0.03       0.04      -0.01              0.0   \n",
       "7           tt_p  69319        0.55       0.45       0.11              1.0   \n",
       "8           sv_w  69319        0.68       0.57       0.11              1.0   \n",
       "9          1st_w  69319        0.76       0.66       0.11              1.0   \n",
       "10         2nd_w  69319        0.56       0.45       0.11              1.0   \n",
       "11       bp_save  69319        0.59        0.5       0.09              1.0   \n",
       "12       r_1st_w  69319        0.34       0.24       0.11              1.0   \n",
       "13          bp_w  69319         0.5       0.41       0.09              1.0   \n",
       "14          rp_w  69319        0.43       0.32       0.11              1.0   \n",
       "15   p_dominance  69319         inf       0.75        inf              nan   \n",
       "16      ace_game  69319        0.52       0.38       0.14              1.0   \n",
       "17       df_game  69319        0.22        0.3      -0.08              0.0   \n",
       "18     df_2nd_sv  69319        0.09       0.11      -0.02              0.0   \n",
       "19  ace_df_ratio  69319        2.45       1.62       0.83              1.0   \n",
       "20    1st_sv_eff  69319         inf        inf        nan              nan   \n",
       "21       sv_ip_w  69319        0.64       0.52       0.12              1.0   \n",
       "22    ploss_game  69319        2.01       2.85      -0.84              0.0   \n",
       "23      bpf_game  69319        0.41       0.75      -0.35              0.0   \n",
       "24      svp_game  69319        0.88       0.65       0.23              1.0   \n",
       "25        r_ip_w  69319        0.48       0.36       0.12              1.0   \n",
       "26   pwon_r_game  69319        2.85       2.01       0.84              1.0   \n",
       "27       bp_game  69319        0.75       0.41       0.35              1.0   \n",
       "28      r_game_w  69319        0.35       0.12       0.23              1.0   \n",
       "29          gm_w  69319        0.62       0.38       0.23              1.0   \n",
       "30   g_dominance  69319         1.7        0.4       1.31              1.0   \n",
       "31      br_ratio  69319        1.16       0.94       0.22              1.0   \n",
       "32         win_p  69319        0.58       0.42       0.16              1.0   \n",
       "\n",
       "   Dif. > 0 p value  \n",
       "0               1.0  \n",
       "1               0.0  \n",
       "2               0.0  \n",
       "3               1.0  \n",
       "4               0.0  \n",
       "5               0.0  \n",
       "6               1.0  \n",
       "7               0.0  \n",
       "8               0.0  \n",
       "9               0.0  \n",
       "10              0.0  \n",
       "11              0.0  \n",
       "12              0.0  \n",
       "13              0.0  \n",
       "14              0.0  \n",
       "15              nan  \n",
       "16              0.0  \n",
       "17              1.0  \n",
       "18              1.0  \n",
       "19              0.0  \n",
       "20              nan  \n",
       "21              0.0  \n",
       "22              1.0  \n",
       "23              1.0  \n",
       "24              0.0  \n",
       "25              0.0  \n",
       "26              0.0  \n",
       "27              0.0  \n",
       "28              0.0  \n",
       "29              0.0  \n",
       "30              0.0  \n",
       "31              0.0  \n",
       "32              0.0  "
      ]
     },
     "metadata": {},
     "output_type": "display_data"
    }
   ],
   "source": [
    "columns=[column[1:] for column in new_df.columns if \"w_\" in column]\n",
    "\n",
    "ttest_df=pd.DataFrame([])\n",
    "\n",
    "for column in columns:\n",
    "    data=[column[1:]]\n",
    "    result=ttest(column)\n",
    "    data.append(str(int(result[0]['N'][0])))\n",
    "    data.append(str(round(result[0]['Mean'][0],2)))\n",
    "    data.append(str(round(result[0]['Mean'][1],2)))\n",
    "    data.append(str(round(result[1].iloc[0][1],2)))\n",
    "    data.append(str(result[1].iloc[4][1]))\n",
    "    data.append(str(result[1].iloc[5][1]))\n",
    "    ttest_df=ttest_df.append(pd.Series(data),ignore_index=True)\n",
    "\n",
    "ttest_df.columns=['Variable','N','Mean Winner','Mean Loser','Difference','Dif. < 0 p value','Dif. > 0 p value']\n",
    "display(ttest_df)\n",
    "\n",
    "\n",
    "\n"
   ]
  },
  {
   "cell_type": "code",
   "execution_count": 11,
   "metadata": {},
   "outputs": [
    {
     "name": "stdout",
     "output_type": "stream",
     "text": [
      "0        1\n",
      "1        1\n",
      "2        1\n",
      "3        1\n",
      "4        1\n",
      "        ..\n",
      "69314    1\n",
      "69315    1\n",
      "69316    1\n",
      "69317    1\n",
      "69318    1\n",
      "Name: label, Length: 69319, dtype: int64\n"
     ]
    },
    {
     "name": "stderr",
     "output_type": "stream",
     "text": [
      " 46%|████▌     | 530/1156 [10:07<40:39,  3.90s/it]  "
     ]
    }
   ],
   "source": [
    "from scipy.stats import chi2_contingency\n",
    "import seaborn as sns\n",
    "from tqdm import tqdm\n",
    "def ch_calculate(df):\n",
    "    factors_paired = [(i,j) for i in df.columns.values for j in df.columns.values] \n",
    "\n",
    "    chi2, p_values =[], []\n",
    "\n",
    "    for f in tqdm(factors_paired):\n",
    "        if f[0] != f[1]:\n",
    "            chitest = chi2_contingency(pd.crosstab(df[f[0]], df[f[1]]))   \n",
    "            chi2.append(chitest[0])\n",
    "            p_values.append(chitest[1])\n",
    "        else:      # for same factor pair\n",
    "            chi2.append(0)\n",
    "            p_values.append(0)\n",
    "\n",
    "    chi2 = np.array(chi2).reshape((len(df.columns),len(df.columns))) # shape it as a matrix\n",
    "    chi2 = pd.DataFrame(chi2, index=df.columns.values, columns=df.columns.values) # then a df for convenience\n",
    "    return chi2\n",
    "\n",
    "new_df['label']=1\n",
    "print(new_df['label'])\n",
    "columns=[i for i in new_df.columns if \"w_\" in i]+['label']\n",
    "chi_square=ch_calculate(new_df[columns])"
   ]
  },
  {
   "cell_type": "code",
   "execution_count": null,
   "metadata": {},
   "outputs": [
    {
     "ename": "NameError",
     "evalue": "name 'plt' is not defined",
     "output_type": "error",
     "traceback": [
      "\u001b[0;31m---------------------------------------------------------------------------\u001b[0m",
      "\u001b[0;31mNameError\u001b[0m                                 Traceback (most recent call last)",
      "\u001b[1;32m/Users/gijs/Documents/Business_Analytics/Machine Learning/TennisML/data_extraction/feature_tuning.ipynb Cell 12'\u001b[0m in \u001b[0;36m<module>\u001b[0;34m\u001b[0m\n\u001b[0;32m----> <a href='vscode-notebook-cell:/Users/gijs/Documents/Business_Analytics/Machine%20Learning/TennisML/data_extraction/feature_tuning.ipynb#ch0000010?line=0'>1</a>\u001b[0m fig, ax \u001b[39m=\u001b[39m plt\u001b[39m.\u001b[39msubplots(figsize\u001b[39m=\u001b[39m(\u001b[39m30\u001b[39m,\u001b[39m30\u001b[39m))\n\u001b[1;32m      <a href='vscode-notebook-cell:/Users/gijs/Documents/Business_Analytics/Machine%20Learning/TennisML/data_extraction/feature_tuning.ipynb#ch0000010?line=1'>2</a>\u001b[0m sns\u001b[39m.\u001b[39mheatmap(chi_square,vmin\u001b[39m=\u001b[39m\u001b[39m0\u001b[39m, vmax\u001b[39m=\u001b[39m\u001b[39m35000\u001b[39m)\n\u001b[1;32m      <a href='vscode-notebook-cell:/Users/gijs/Documents/Business_Analytics/Machine%20Learning/TennisML/data_extraction/feature_tuning.ipynb#ch0000010?line=2'>3</a>\u001b[0m plt\u001b[39m.\u001b[39mshow()\n",
      "\u001b[0;31mNameError\u001b[0m: name 'plt' is not defined"
     ]
    }
   ],
   "source": [
    "fig, ax = plt.subplots(figsize=(30,30))\n",
    "sns.heatmap(chi_square,vmin=0, vmax=35000)\n",
    "plt.show()"
   ]
  }
 ],
 "metadata": {
  "interpreter": {
   "hash": "ac2eaa0ea0ebeafcc7822e65e46aa9d4f966f30b695406963e145ea4a91cd4fc"
  },
  "kernelspec": {
   "display_name": "Python 3.9.10 64-bit",
   "language": "python",
   "name": "python3"
  },
  "language_info": {
   "codemirror_mode": {
    "name": "ipython",
    "version": 3
   },
   "file_extension": ".py",
   "mimetype": "text/x-python",
   "name": "python",
   "nbconvert_exporter": "python",
   "pygments_lexer": "ipython3",
   "version": "3.9.10"
  },
  "orig_nbformat": 4
 },
 "nbformat": 4,
 "nbformat_minor": 2
}
