{
 "cells": [
  {
   "cell_type": "code",
   "execution_count": 35,
   "metadata": {},
   "outputs": [],
   "source": [
    "import numpy as np\n",
    "import pandas as pd\n",
    "import os\n",
    "import matplotlib.pyplot as plt\n",
    "parent_dir=os.path.dirname(os.getcwd())\n",
    "\n",
    "df=pd.read_csv(os.path.join(parent_dir,\"tennis_wta-master\\wta_matches_2000.csv\"))\n",
    "\n",
    "\n"
   ]
  },
  {
   "cell_type": "code",
   "execution_count": 36,
   "metadata": {},
   "outputs": [
    {
     "data": {
      "text/plain": [
       "<matplotlib.collections.PathCollection at 0x24d02beb0d0>"
      ]
     },
     "execution_count": 36,
     "metadata": {},
     "output_type": "execute_result"
    },
    {
     "data": {
      "image/png": "[encoded data removed]",
      "text/plain": [
       "<Figure size 432x288 with 1 Axes>"
      ]
     },
     "metadata": {
      "needs_background": "light"
     },
     "output_type": "display_data"
    }
   ],
   "source": [
    "plt.scatter(df.winner_age, df.winner_rank)"
   ]
  },
  {
   "cell_type": "code",
   "execution_count": 105,
   "metadata": {},
   "outputs": [
    {
     "data": {
      "text/plain": [
       "(150.0, 200.0)"
      ]
     },
     "execution_count": 105,
     "metadata": {},
     "output_type": "execute_result"
    },
    {
     "data": {
      "image/png": "[encoded data removed]",
      "text/plain": [
       "<Figure size 432x288 with 1 Axes>"
      ]
     },
     "metadata": {
      "needs_background": "light"
     },
     "output_type": "display_data"
    }
   ],
   "source": [
    "df_wta_players = pd.read_csv(os.path.join(parent_dir,\"tennis_wta-master\\wta_players.csv\"))\n",
    "df_wta_ranking = pd.read_csv(os.path.join(parent_dir,\"tennis_wta-master\\wta_rankings_10s.csv\"))\n",
    "\n",
    "df_wta_playersrank_10s = pd.merge(df_wta_ranking, df_wta_players[[\"name_first\", \"name_last\", \"player_id\"]], left_on = \"player\", right_on = \"player_id\")\n",
    "df_wta_playersrank_10s_ht = pd.merge(df_wta_playersrank_10s, df[[\"winner_id\", \"winner_ht\"]], left_on = \"player\", right_on = \"winner_id\" )\n",
    "\n",
    "df_wta_playersrank_10s_ht = df_wta_playersrank_10s_ht.fillna(1)\n",
    "# display(df_wta_playersrank_10s_ht)\n",
    "\n",
    "# print(df_wta_playersrank_10s_ht[\"winner_ht\"].size)\n",
    "# print(df_wta_playersrank_10s_ht[\"rank\"].size)\n",
    "# print(df_wta_playersrank_10s_ht.winner_ht)\n",
    "# display(df_wta_playersrank_10s_ht[\"rank\"])\n",
    "plt.scatter(df_wta_playersrank_10s_ht[\"rank\"], df_wta_playersrank_10s_ht.winner_ht)\n",
    "plt.ylim(150,200)"
   ]
  },
  {
   "cell_type": "code",
   "execution_count": 87,
   "metadata": {},
   "outputs": [
    {
     "data": {
      "text/html": [
       "<div>\n",
       "<style scoped>\n",
       "    .dataframe tbody tr th:only-of-type {\n",
       "        vertical-align: middle;\n",
       "    }\n",
       "\n",
       "    .dataframe tbody tr th {\n",
       "        vertical-align: top;\n",
       "    }\n",
       "\n",
       "    .dataframe thead th {\n",
       "        text-align: right;\n",
       "    }\n",
       "</style>\n",
       "<table border=\"1\" class=\"dataframe\">\n",
       "  <thead>\n",
       "    <tr style=\"text-align: right;\">\n",
       "      <th></th>\n",
       "      <th>ranking_date</th>\n",
       "      <th>rank</th>\n",
       "      <th>player</th>\n",
       "      <th>points</th>\n",
       "      <th>tours</th>\n",
       "      <th>name_first</th>\n",
       "      <th>name_last</th>\n",
       "      <th>player_id</th>\n",
       "      <th>winner_id</th>\n",
       "      <th>winner_ht</th>\n",
       "    </tr>\n",
       "  </thead>\n",
       "  <tbody>\n",
       "    <tr>\n",
       "      <th>0</th>\n",
       "      <td>20100101</td>\n",
       "      <td>1</td>\n",
       "      <td>200033</td>\n",
       "      <td>9075.0</td>\n",
       "      <td>15.0</td>\n",
       "      <td>Serena</td>\n",
       "      <td>Williams</td>\n",
       "      <td>200033</td>\n",
       "      <td>200033</td>\n",
       "      <td>175.0</td>\n",
       "    </tr>\n",
       "    <tr>\n",
       "      <th>1</th>\n",
       "      <td>20100101</td>\n",
       "      <td>1</td>\n",
       "      <td>200033</td>\n",
       "      <td>9075.0</td>\n",
       "      <td>15.0</td>\n",
       "      <td>Serena</td>\n",
       "      <td>Williams</td>\n",
       "      <td>200033</td>\n",
       "      <td>200033</td>\n",
       "      <td>175.0</td>\n",
       "    </tr>\n",
       "    <tr>\n",
       "      <th>2</th>\n",
       "      <td>20100101</td>\n",
       "      <td>1</td>\n",
       "      <td>200033</td>\n",
       "      <td>9075.0</td>\n",
       "      <td>15.0</td>\n",
       "      <td>Serena</td>\n",
       "      <td>Williams</td>\n",
       "      <td>200033</td>\n",
       "      <td>200033</td>\n",
       "      <td>175.0</td>\n",
       "    </tr>\n",
       "    <tr>\n",
       "      <th>3</th>\n",
       "      <td>20100101</td>\n",
       "      <td>1</td>\n",
       "      <td>200033</td>\n",
       "      <td>9075.0</td>\n",
       "      <td>15.0</td>\n",
       "      <td>Serena</td>\n",
       "      <td>Williams</td>\n",
       "      <td>200033</td>\n",
       "      <td>200033</td>\n",
       "      <td>175.0</td>\n",
       "    </tr>\n",
       "    <tr>\n",
       "      <th>4</th>\n",
       "      <td>20100101</td>\n",
       "      <td>1</td>\n",
       "      <td>200033</td>\n",
       "      <td>9075.0</td>\n",
       "      <td>15.0</td>\n",
       "      <td>Serena</td>\n",
       "      <td>Williams</td>\n",
       "      <td>200033</td>\n",
       "      <td>200033</td>\n",
       "      <td>175.0</td>\n",
       "    </tr>\n",
       "    <tr>\n",
       "      <th>...</th>\n",
       "      <td>...</td>\n",
       "      <td>...</td>\n",
       "      <td>...</td>\n",
       "      <td>...</td>\n",
       "      <td>...</td>\n",
       "      <td>...</td>\n",
       "      <td>...</td>\n",
       "      <td>...</td>\n",
       "      <td>...</td>\n",
       "      <td>...</td>\n",
       "    </tr>\n",
       "    <tr>\n",
       "      <th>118749</th>\n",
       "      <td>20191223</td>\n",
       "      <td>1218</td>\n",
       "      <td>202789</td>\n",
       "      <td>5.0</td>\n",
       "      <td>0.0</td>\n",
       "      <td>Salome</td>\n",
       "      <td>Devidze</td>\n",
       "      <td>202789</td>\n",
       "      <td>202789</td>\n",
       "      <td>3.0</td>\n",
       "    </tr>\n",
       "    <tr>\n",
       "      <th>118750</th>\n",
       "      <td>20191223</td>\n",
       "      <td>1218</td>\n",
       "      <td>202789</td>\n",
       "      <td>5.0</td>\n",
       "      <td>0.0</td>\n",
       "      <td>Salome</td>\n",
       "      <td>Devidze</td>\n",
       "      <td>202789</td>\n",
       "      <td>202789</td>\n",
       "      <td>3.0</td>\n",
       "    </tr>\n",
       "    <tr>\n",
       "      <th>118751</th>\n",
       "      <td>20191230</td>\n",
       "      <td>1213</td>\n",
       "      <td>202789</td>\n",
       "      <td>5.0</td>\n",
       "      <td>4.0</td>\n",
       "      <td>Salome</td>\n",
       "      <td>Devidze</td>\n",
       "      <td>202789</td>\n",
       "      <td>202789</td>\n",
       "      <td>3.0</td>\n",
       "    </tr>\n",
       "    <tr>\n",
       "      <th>118752</th>\n",
       "      <td>20191230</td>\n",
       "      <td>1213</td>\n",
       "      <td>202789</td>\n",
       "      <td>5.0</td>\n",
       "      <td>4.0</td>\n",
       "      <td>Salome</td>\n",
       "      <td>Devidze</td>\n",
       "      <td>202789</td>\n",
       "      <td>202789</td>\n",
       "      <td>3.0</td>\n",
       "    </tr>\n",
       "    <tr>\n",
       "      <th>118753</th>\n",
       "      <td>20191230</td>\n",
       "      <td>1213</td>\n",
       "      <td>202789</td>\n",
       "      <td>5.0</td>\n",
       "      <td>4.0</td>\n",
       "      <td>Salome</td>\n",
       "      <td>Devidze</td>\n",
       "      <td>202789</td>\n",
       "      <td>202789</td>\n",
       "      <td>3.0</td>\n",
       "    </tr>\n",
       "  </tbody>\n",
       "</table>\n",
       "<p>118754 rows × 10 columns</p>\n",
       "</div>"
      ],
      "text/plain": [
       "        ranking_date  rank  player  points  tours name_first name_last  \\\n",
       "0           20100101     1  200033  9075.0   15.0     Serena  Williams   \n",
       "1           20100101     1  200033  9075.0   15.0     Serena  Williams   \n",
       "2           20100101     1  200033  9075.0   15.0     Serena  Williams   \n",
       "3           20100101     1  200033  9075.0   15.0     Serena  Williams   \n",
       "4           20100101     1  200033  9075.0   15.0     Serena  Williams   \n",
       "...              ...   ...     ...     ...    ...        ...       ...   \n",
       "118749      20191223  1218  202789     5.0    0.0     Salome   Devidze   \n",
       "118750      20191223  1218  202789     5.0    0.0     Salome   Devidze   \n",
       "118751      20191230  1213  202789     5.0    4.0     Salome   Devidze   \n",
       "118752      20191230  1213  202789     5.0    4.0     Salome   Devidze   \n",
       "118753      20191230  1213  202789     5.0    4.0     Salome   Devidze   \n",
       "\n",
       "        player_id  winner_id  winner_ht  \n",
       "0          200033     200033      175.0  \n",
       "1          200033     200033      175.0  \n",
       "2          200033     200033      175.0  \n",
       "3          200033     200033      175.0  \n",
       "4          200033     200033      175.0  \n",
       "...           ...        ...        ...  \n",
       "118749     202789     202789        3.0  \n",
       "118750     202789     202789        3.0  \n",
       "118751     202789     202789        3.0  \n",
       "118752     202789     202789        3.0  \n",
       "118753     202789     202789        3.0  \n",
       "\n",
       "[118754 rows x 10 columns]"
      ]
     },
     "metadata": {},
     "output_type": "display_data"
    }
   ],
   "source": []
  }
 ],
 "metadata": {
  "interpreter": {
   "hash": "ee5cc6fef2d70a7e71ee3826687cbd150f18158e0b1eef11d4f4f92bb920e304"
  },
  "kernelspec": {
   "display_name": "Python 3.9.7 64-bit",
   "language": "python",
   "name": "python3"
  },
  "language_info": {
   "codemirror_mode": {
    "name": "ipython",
    "version": 3
   },
   "file_extension": ".py",
   "mimetype": "text/x-python",
   "name": "python",
   "nbconvert_exporter": "python",
   "pygments_lexer": "ipython3",
   "version": "3.9.7"
  },
  "orig_nbformat": 4
 },
 "nbformat": 4,
 "nbformat_minor": 2
}
