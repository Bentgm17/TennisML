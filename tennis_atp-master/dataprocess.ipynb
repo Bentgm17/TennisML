{
 "cells": [
  {
   "cell_type": "code",
   "execution_count": 47,
   "metadata": {},
   "outputs": [
    {
     "name": "stdout",
     "output_type": "stream",
     "text": [
      "(   Variable       N      Mean        SD        SE  95% Conf.  Interval\n",
      "0     w_ace  2620.0  7.773664  6.293775  0.122959   7.532557  8.014771\n",
      "1     l_ace  2620.0  5.590840  5.173115  0.101065   5.392664  5.789015\n",
      "2  combined  5240.0  6.682252  5.862716  0.080990   6.523477  6.841027,               Independent t-test    results\n",
      "0  Difference (w_ace - l_ace) =      2.1828\n",
      "1          Degrees of freedom =   5238.0000\n",
      "2                           t =     13.7143\n",
      "3       Two side test p value =      0.0000\n",
      "4      Difference < 0 p value =      1.0000\n",
      "5      Difference > 0 p value =      0.0000\n",
      "6                   Cohen's d =      0.3789\n",
      "7                   Hedge's g =      0.3789\n",
      "8               Glass's delta =      0.3468\n",
      "9                 Pearson's r =      0.1862)\n"
     ]
    },
    {
     "data": {
      "text/plain": [
       "0.0"
      ]
     },
     "execution_count": 47,
     "metadata": {},
     "output_type": "execute_result"
    }
   ],
   "source": [
    "import pandas as pd\n",
    "import numpy as np\n",
    "from numpy import array\n",
    "from numpy import argmax\n",
    "from sklearn.preprocessing import LabelEncoder\n",
    "from sklearn.preprocessing import OneHotEncoder\n",
    "import seaborn as sns\n",
    "import matplotlib.pyplot as plt\n",
    "import researchpy\n",
    "\n",
    "data = pd.read_csv('atp_matches_2015.csv')\n",
    "data.head()\n",
    "\n",
    "def plot_winner_loser_stat(data,stat):\n",
    "    winner_series=data[\"w_\"+stat].to_list()\n",
    "    loser_series=data[\"l_\"+stat].to_list()\n",
    "    #data[['w_'+stat, 'l_'+stat]].plot(kind='box', title='boxplot')\n",
    "    result = researchpy.ttest(data[\"w_\"+stat], data[\"l_\"+stat])\n",
    "    print(result)\n",
    "\n",
    "plot_winner_loser_stat(data,\"ace\")\n",
    "\n",
    "data['w_ace'].min()\n",
    "\n"
   ]
  },
  {
   "cell_type": "code",
   "execution_count": 48,
   "metadata": {},
   "outputs": [
    {
     "name": "stdout",
     "output_type": "stream",
     "text": [
      "[[0. 0. 1.]\n",
      " [0. 0. 1.]\n",
      " [0. 0. 1.]\n",
      " ...\n",
      " [1. 0. 0.]\n",
      " [1. 0. 0.]\n",
      " [1. 0. 0.]]\n"
     ]
    }
   ],
   "source": [
    "#one-hot encoding for surface\n",
    "underground = data['surface']\n",
    "values = array(underground)\n",
    "\n",
    "label_encoder = LabelEncoder()\n",
    "integer_encoded = label_encoder.fit_transform(values)\n",
    "\n",
    "onehot_encoder = OneHotEncoder(sparse=False)\n",
    "integer_encoded = integer_encoded.reshape(len(integer_encoded), 1)\n",
    "onehot_encoded = onehot_encoder.fit_transform(integer_encoded)\n",
    "print(onehot_encoded)\n",
    "\n",
    "inverted = label_encoder.inverse_transform([argmax(onehot_encoded[2497, :])])"
   ]
  }
 ],
 "metadata": {
  "interpreter": {
   "hash": "aee8b7b246df8f9039afb4144a1f6fd8d2ca17a180786b69acc140d282b71a49"
  },
  "kernelspec": {
   "display_name": "Python 3.10.0 64-bit",
   "language": "python",
   "name": "python3"
  },
  "language_info": {
   "codemirror_mode": {
    "name": "ipython",
    "version": 3
   },
   "file_extension": ".py",
   "mimetype": "text/x-python",
   "name": "python",
   "nbconvert_exporter": "python",
   "pygments_lexer": "ipython3",
   "version": "3.7.7"
  },
  "orig_nbformat": 4
 },
 "nbformat": 4,
 "nbformat_minor": 2
}
