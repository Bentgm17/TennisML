{
  "cells": [
    {
      "cell_type": "code",
      "execution_count": null,
      "metadata": {
        "id": "mDb71-nJHgjs"
      },
      "outputs": [],
      "source": [
        "import numpy as np\n",
        "import pandas as pd\n",
        "import seaborn as sns\n",
        "import matplotlib.pyplot as plt\n",
        "\n",
        "import torch\n",
        "import torch.nn as nn\n",
        "import torch.optim as optim\n",
        "from torch.utils.data import Dataset, DataLoader\n",
        "\n",
        "from sklearn.preprocessing import StandardScaler,RobustScaler,MinMaxScaler  \n",
        "from sklearn.model_selection import train_test_split\n",
        "from sklearn.metrics import confusion_matrix, classification_report\n",
        "import time\n",
        "import seaborn as sns\n",
        "import math\n"
      ]
    },
    {
      "cell_type": "code",
      "execution_count": null,
      "metadata": {
        "colab": {
          "base_uri": "https://localhost:8080/"
        },
        "id": "4cY0hvf6cbRh",
        "outputId": "aae7929f-a327-4695-ea28-efb9d2a33fae"
      },
      "outputs": [
        {
          "name": "stdout",
          "output_type": "stream",
          "text": [
            "Drive already mounted at /content/drive; to attempt to forcibly remount, call drive.mount(\"/content/drive\", force_remount=True).\n"
          ]
        }
      ],
      "source": [
        "from google.colab import drive\n",
        "drive.mount('/content/drive')"
      ]
    },
    {
      "cell_type": "code",
      "execution_count": null,
      "metadata": {
        "colab": {
          "base_uri": "https://localhost:8080/",
          "height": 1000
        },
        "id": "2Nl3kuNpz53K",
        "outputId": "dd630937-28b5-4f2b-bfca-60843569f793"
      },
      "outputs": [
        {
          "data": {
            "text/html": [
              "\n",
              "  <div id=\"df-293dd089-e828-4716-b78c-55c8482f68b4\">\n",
              "    <div class=\"colab-df-container\">\n",
              "      <div>\n",
              "<style scoped>\n",
              "    .dataframe tbody tr th:only-of-type {\n",
              "        vertical-align: middle;\n",
              "    }\n",
              "\n",
              "    .dataframe tbody tr th {\n",
              "        vertical-align: top;\n",
              "    }\n",
              "\n",
              "    .dataframe thead th {\n",
              "        text-align: right;\n",
              "    }\n",
              "</style>\n",
              "<table border=\"1\" class=\"dataframe\">\n",
              "  <thead>\n",
              "    <tr style=\"text-align: right;\">\n",
              "      <th></th>\n",
              "      <th>date</th>\n",
              "      <th>label</th>\n",
              "      <th>p1_odd</th>\n",
              "      <th>p2_odd</th>\n",
              "      <th>h2h</th>\n",
              "      <th>h2h_p</th>\n",
              "      <th>p_1_tour_suc</th>\n",
              "      <th>p_2_tour_suc</th>\n",
              "      <th>p_1_tour_suc_per</th>\n",
              "      <th>p_2_tour_suc_per</th>\n",
              "      <th>...</th>\n",
              "      <th>p_2_avg_bpf_game</th>\n",
              "      <th>p_2_avg_svp_game</th>\n",
              "      <th>p_2_avg_r_ip_w</th>\n",
              "      <th>p_2_avg_pwon_r_game</th>\n",
              "      <th>p_2_avg_bp_game</th>\n",
              "      <th>p_2_avg_r_game_w</th>\n",
              "      <th>p_2_avg_gm_w</th>\n",
              "      <th>p_2_avg_g_dominance</th>\n",
              "      <th>p_2_avg_br_ratio</th>\n",
              "      <th>p_2_avg_win_p</th>\n",
              "    </tr>\n",
              "  </thead>\n",
              "  <tbody>\n",
              "    <tr>\n",
              "      <th>0</th>\n",
              "      <td>1990-12-31</td>\n",
              "      <td>0</td>\n",
              "      <td>NaN</td>\n",
              "      <td>NaN</td>\n",
              "      <td>0</td>\n",
              "      <td>0.000000</td>\n",
              "      <td>1</td>\n",
              "      <td>1</td>\n",
              "      <td>1.000000</td>\n",
              "      <td>1.000000</td>\n",
              "      <td>...</td>\n",
              "      <td>0.062857</td>\n",
              "      <td>0.968571</td>\n",
              "      <td>0.387650</td>\n",
              "      <td>2.379692</td>\n",
              "      <td>0.820462</td>\n",
              "      <td>0.206769</td>\n",
              "      <td>0.590222</td>\n",
              "      <td>0.355385</td>\n",
              "      <td>0.361905</td>\n",
              "      <td>0.657614</td>\n",
              "    </tr>\n",
              "    <tr>\n",
              "      <th>1</th>\n",
              "      <td>1990-12-31</td>\n",
              "      <td>1</td>\n",
              "      <td>NaN</td>\n",
              "      <td>NaN</td>\n",
              "      <td>0</td>\n",
              "      <td>0.000000</td>\n",
              "      <td>1</td>\n",
              "      <td>1</td>\n",
              "      <td>1.000000</td>\n",
              "      <td>1.000000</td>\n",
              "      <td>...</td>\n",
              "      <td>0.261500</td>\n",
              "      <td>0.844000</td>\n",
              "      <td>0.556059</td>\n",
              "      <td>3.376000</td>\n",
              "      <td>1.000000</td>\n",
              "      <td>0.500000</td>\n",
              "      <td>0.672000</td>\n",
              "      <td>1.950000</td>\n",
              "      <td>0.585000</td>\n",
              "      <td>0.514321</td>\n",
              "    </tr>\n",
              "    <tr>\n",
              "      <th>2</th>\n",
              "      <td>1990-12-31</td>\n",
              "      <td>1</td>\n",
              "      <td>NaN</td>\n",
              "      <td>NaN</td>\n",
              "      <td>0</td>\n",
              "      <td>0.000000</td>\n",
              "      <td>1</td>\n",
              "      <td>1</td>\n",
              "      <td>1.000000</td>\n",
              "      <td>1.000000</td>\n",
              "      <td>...</td>\n",
              "      <td>0.851111</td>\n",
              "      <td>0.840000</td>\n",
              "      <td>0.519741</td>\n",
              "      <td>2.576222</td>\n",
              "      <td>0.610000</td>\n",
              "      <td>0.458667</td>\n",
              "      <td>0.639298</td>\n",
              "      <td>3.248000</td>\n",
              "      <td>4.856889</td>\n",
              "      <td>0.628589</td>\n",
              "    </tr>\n",
              "    <tr>\n",
              "      <th>3</th>\n",
              "      <td>1990-12-31</td>\n",
              "      <td>1</td>\n",
              "      <td>NaN</td>\n",
              "      <td>NaN</td>\n",
              "      <td>0</td>\n",
              "      <td>0.000000</td>\n",
              "      <td>1</td>\n",
              "      <td>1</td>\n",
              "      <td>1.000000</td>\n",
              "      <td>1.000000</td>\n",
              "      <td>...</td>\n",
              "      <td>0.159029</td>\n",
              "      <td>0.953486</td>\n",
              "      <td>0.416033</td>\n",
              "      <td>2.613938</td>\n",
              "      <td>0.786627</td>\n",
              "      <td>0.259058</td>\n",
              "      <td>0.610900</td>\n",
              "      <td>1.254978</td>\n",
              "      <td>1.015619</td>\n",
              "      <td>0.637729</td>\n",
              "    </tr>\n",
              "    <tr>\n",
              "      <th>4</th>\n",
              "      <td>1990-12-31</td>\n",
              "      <td>1</td>\n",
              "      <td>NaN</td>\n",
              "      <td>NaN</td>\n",
              "      <td>0</td>\n",
              "      <td>0.000000</td>\n",
              "      <td>1</td>\n",
              "      <td>1</td>\n",
              "      <td>1.000000</td>\n",
              "      <td>1.000000</td>\n",
              "      <td>...</td>\n",
              "      <td>0.616000</td>\n",
              "      <td>0.752000</td>\n",
              "      <td>0.456667</td>\n",
              "      <td>2.464857</td>\n",
              "      <td>0.721429</td>\n",
              "      <td>0.344571</td>\n",
              "      <td>0.556059</td>\n",
              "      <td>1.407643</td>\n",
              "      <td>1.196667</td>\n",
              "      <td>0.281949</td>\n",
              "    </tr>\n",
              "    <tr>\n",
              "      <th>...</th>\n",
              "      <td>...</td>\n",
              "      <td>...</td>\n",
              "      <td>...</td>\n",
              "      <td>...</td>\n",
              "      <td>...</td>\n",
              "      <td>...</td>\n",
              "      <td>...</td>\n",
              "      <td>...</td>\n",
              "      <td>...</td>\n",
              "      <td>...</td>\n",
              "      <td>...</td>\n",
              "      <td>...</td>\n",
              "      <td>...</td>\n",
              "      <td>...</td>\n",
              "      <td>...</td>\n",
              "      <td>...</td>\n",
              "      <td>...</td>\n",
              "      <td>...</td>\n",
              "      <td>...</td>\n",
              "      <td>...</td>\n",
              "      <td>...</td>\n",
              "    </tr>\n",
              "    <tr>\n",
              "      <th>84414</th>\n",
              "      <td>2021-11-07</td>\n",
              "      <td>0</td>\n",
              "      <td>5.00</td>\n",
              "      <td>1.16</td>\n",
              "      <td>0</td>\n",
              "      <td>0.000000</td>\n",
              "      <td>1</td>\n",
              "      <td>1</td>\n",
              "      <td>1.000000</td>\n",
              "      <td>0.000000</td>\n",
              "      <td>...</td>\n",
              "      <td>0.514654</td>\n",
              "      <td>0.824977</td>\n",
              "      <td>0.387088</td>\n",
              "      <td>2.078494</td>\n",
              "      <td>0.508900</td>\n",
              "      <td>0.177076</td>\n",
              "      <td>0.497519</td>\n",
              "      <td>1.052200</td>\n",
              "      <td>1.357086</td>\n",
              "      <td>0.437453</td>\n",
              "    </tr>\n",
              "    <tr>\n",
              "      <th>84415</th>\n",
              "      <td>2021-11-07</td>\n",
              "      <td>1</td>\n",
              "      <td>2.50</td>\n",
              "      <td>1.53</td>\n",
              "      <td>0</td>\n",
              "      <td>0.000000</td>\n",
              "      <td>1</td>\n",
              "      <td>1</td>\n",
              "      <td>0.000000</td>\n",
              "      <td>0.500000</td>\n",
              "      <td>...</td>\n",
              "      <td>0.480996</td>\n",
              "      <td>0.758484</td>\n",
              "      <td>0.433515</td>\n",
              "      <td>2.618979</td>\n",
              "      <td>0.562970</td>\n",
              "      <td>0.293633</td>\n",
              "      <td>0.524004</td>\n",
              "      <td>0.746031</td>\n",
              "      <td>0.995261</td>\n",
              "      <td>0.488511</td>\n",
              "    </tr>\n",
              "    <tr>\n",
              "      <th>84416</th>\n",
              "      <td>2021-11-07</td>\n",
              "      <td>1</td>\n",
              "      <td>NaN</td>\n",
              "      <td>NaN</td>\n",
              "      <td>1</td>\n",
              "      <td>0.666667</td>\n",
              "      <td>1</td>\n",
              "      <td>1</td>\n",
              "      <td>0.500000</td>\n",
              "      <td>0.714286</td>\n",
              "      <td>...</td>\n",
              "      <td>0.379015</td>\n",
              "      <td>0.826861</td>\n",
              "      <td>0.401802</td>\n",
              "      <td>2.119391</td>\n",
              "      <td>0.575703</td>\n",
              "      <td>0.220303</td>\n",
              "      <td>0.520682</td>\n",
              "      <td>0.472382</td>\n",
              "      <td>1.009583</td>\n",
              "      <td>0.479825</td>\n",
              "    </tr>\n",
              "    <tr>\n",
              "      <th>84417</th>\n",
              "      <td>2021-11-07</td>\n",
              "      <td>0</td>\n",
              "      <td>1.61</td>\n",
              "      <td>2.30</td>\n",
              "      <td>0</td>\n",
              "      <td>0.000000</td>\n",
              "      <td>1</td>\n",
              "      <td>1</td>\n",
              "      <td>0.888889</td>\n",
              "      <td>1.000000</td>\n",
              "      <td>...</td>\n",
              "      <td>0.397598</td>\n",
              "      <td>0.825506</td>\n",
              "      <td>0.458163</td>\n",
              "      <td>2.745837</td>\n",
              "      <td>0.672990</td>\n",
              "      <td>0.281594</td>\n",
              "      <td>0.555240</td>\n",
              "      <td>1.930559</td>\n",
              "      <td>0.941370</td>\n",
              "      <td>0.376046</td>\n",
              "    </tr>\n",
              "    <tr>\n",
              "      <th>84418</th>\n",
              "      <td>2021-11-07</td>\n",
              "      <td>1</td>\n",
              "      <td>1.16</td>\n",
              "      <td>5.00</td>\n",
              "      <td>0</td>\n",
              "      <td>0.000000</td>\n",
              "      <td>1</td>\n",
              "      <td>0</td>\n",
              "      <td>0.500000</td>\n",
              "      <td>0.000000</td>\n",
              "      <td>...</td>\n",
              "      <td>0.600823</td>\n",
              "      <td>0.754058</td>\n",
              "      <td>0.321383</td>\n",
              "      <td>1.702804</td>\n",
              "      <td>0.120831</td>\n",
              "      <td>0.061878</td>\n",
              "      <td>0.409803</td>\n",
              "      <td>0.134408</td>\n",
              "      <td>2.265669</td>\n",
              "      <td>0.225380</td>\n",
              "    </tr>\n",
              "  </tbody>\n",
              "</table>\n",
              "<p>80166 rows × 70 columns</p>\n",
              "</div>\n",
              "      <button class=\"colab-df-convert\" onclick=\"convertToInteractive('df-293dd089-e828-4716-b78c-55c8482f68b4')\"\n",
              "              title=\"Convert this dataframe to an interactive table.\"\n",
              "              style=\"display:none;\">\n",
              "        \n",
              "  <svg xmlns=\"http://www.w3.org/2000/svg\" height=\"24px\"viewBox=\"0 0 24 24\"\n",
              "       width=\"24px\">\n",
              "    <path d=\"M0 0h24v24H0V0z\" fill=\"none\"/>\n",
              "    <path d=\"M18.56 5.44l.94 2.06.94-2.06 2.06-.94-2.06-.94-.94-2.06-.94 2.06-2.06.94zm-11 1L8.5 8.5l.94-2.06 2.06-.94-2.06-.94L8.5 2.5l-.94 2.06-2.06.94zm10 10l.94 2.06.94-2.06 2.06-.94-2.06-.94-.94-2.06-.94 2.06-2.06.94z\"/><path d=\"M17.41 7.96l-1.37-1.37c-.4-.4-.92-.59-1.43-.59-.52 0-1.04.2-1.43.59L10.3 9.45l-7.72 7.72c-.78.78-.78 2.05 0 2.83L4 21.41c.39.39.9.59 1.41.59.51 0 1.02-.2 1.41-.59l7.78-7.78 2.81-2.81c.8-.78.8-2.07 0-2.86zM5.41 20L4 18.59l7.72-7.72 1.47 1.35L5.41 20z\"/>\n",
              "  </svg>\n",
              "      </button>\n",
              "      \n",
              "  <style>\n",
              "    .colab-df-container {\n",
              "      display:flex;\n",
              "      flex-wrap:wrap;\n",
              "      gap: 12px;\n",
              "    }\n",
              "\n",
              "    .colab-df-convert {\n",
              "      background-color: #E8F0FE;\n",
              "      border: none;\n",
              "      border-radius: 50%;\n",
              "      cursor: pointer;\n",
              "      display: none;\n",
              "      fill: #1967D2;\n",
              "      height: 32px;\n",
              "      padding: 0 0 0 0;\n",
              "      width: 32px;\n",
              "    }\n",
              "\n",
              "    .colab-df-convert:hover {\n",
              "      background-color: #E2EBFA;\n",
              "      box-shadow: 0px 1px 2px rgba(60, 64, 67, 0.3), 0px 1px 3px 1px rgba(60, 64, 67, 0.15);\n",
              "      fill: #174EA6;\n",
              "    }\n",
              "\n",
              "    [theme=dark] .colab-df-convert {\n",
              "      background-color: #3B4455;\n",
              "      fill: #D2E3FC;\n",
              "    }\n",
              "\n",
              "    [theme=dark] .colab-df-convert:hover {\n",
              "      background-color: #434B5C;\n",
              "      box-shadow: 0px 1px 3px 1px rgba(0, 0, 0, 0.15);\n",
              "      filter: drop-shadow(0px 1px 2px rgba(0, 0, 0, 0.3));\n",
              "      fill: #FFFFFF;\n",
              "    }\n",
              "  </style>\n",
              "\n",
              "      <script>\n",
              "        const buttonEl =\n",
              "          document.querySelector('#df-293dd089-e828-4716-b78c-55c8482f68b4 button.colab-df-convert');\n",
              "        buttonEl.style.display =\n",
              "          google.colab.kernel.accessAllowed ? 'block' : 'none';\n",
              "\n",
              "        async function convertToInteractive(key) {\n",
              "          const element = document.querySelector('#df-293dd089-e828-4716-b78c-55c8482f68b4');\n",
              "          const dataTable =\n",
              "            await google.colab.kernel.invokeFunction('convertToInteractive',\n",
              "                                                     [key], {});\n",
              "          if (!dataTable) return;\n",
              "\n",
              "          const docLinkHtml = 'Like what you see? Visit the ' +\n",
              "            '<a target=\"_blank\" href=https://colab.research.google.com/notebooks/data_table.ipynb>data table notebook</a>'\n",
              "            + ' to learn more about interactive tables.';\n",
              "          element.innerHTML = '';\n",
              "          dataTable['output_type'] = 'display_data';\n",
              "          await google.colab.output.renderOutput(dataTable, element);\n",
              "          const docLink = document.createElement('div');\n",
              "          docLink.innerHTML = docLinkHtml;\n",
              "          element.appendChild(docLink);\n",
              "        }\n",
              "      </script>\n",
              "    </div>\n",
              "  </div>\n",
              "  "
            ],
            "text/plain": [
              "             date  label  p1_odd  p2_odd  h2h     h2h_p  p_1_tour_suc  \\\n",
              "0      1990-12-31      0     NaN     NaN    0  0.000000             1   \n",
              "1      1990-12-31      1     NaN     NaN    0  0.000000             1   \n",
              "2      1990-12-31      1     NaN     NaN    0  0.000000             1   \n",
              "3      1990-12-31      1     NaN     NaN    0  0.000000             1   \n",
              "4      1990-12-31      1     NaN     NaN    0  0.000000             1   \n",
              "...           ...    ...     ...     ...  ...       ...           ...   \n",
              "84414  2021-11-07      0    5.00    1.16    0  0.000000             1   \n",
              "84415  2021-11-07      1    2.50    1.53    0  0.000000             1   \n",
              "84416  2021-11-07      1     NaN     NaN    1  0.666667             1   \n",
              "84417  2021-11-07      0    1.61    2.30    0  0.000000             1   \n",
              "84418  2021-11-07      1    1.16    5.00    0  0.000000             1   \n",
              "\n",
              "       p_2_tour_suc  p_1_tour_suc_per  p_2_tour_suc_per  ...  \\\n",
              "0                 1          1.000000          1.000000  ...   \n",
              "1                 1          1.000000          1.000000  ...   \n",
              "2                 1          1.000000          1.000000  ...   \n",
              "3                 1          1.000000          1.000000  ...   \n",
              "4                 1          1.000000          1.000000  ...   \n",
              "...             ...               ...               ...  ...   \n",
              "84414             1          1.000000          0.000000  ...   \n",
              "84415             1          0.000000          0.500000  ...   \n",
              "84416             1          0.500000          0.714286  ...   \n",
              "84417             1          0.888889          1.000000  ...   \n",
              "84418             0          0.500000          0.000000  ...   \n",
              "\n",
              "       p_2_avg_bpf_game  p_2_avg_svp_game  p_2_avg_r_ip_w  \\\n",
              "0              0.062857          0.968571        0.387650   \n",
              "1              0.261500          0.844000        0.556059   \n",
              "2              0.851111          0.840000        0.519741   \n",
              "3              0.159029          0.953486        0.416033   \n",
              "4              0.616000          0.752000        0.456667   \n",
              "...                 ...               ...             ...   \n",
              "84414          0.514654          0.824977        0.387088   \n",
              "84415          0.480996          0.758484        0.433515   \n",
              "84416          0.379015          0.826861        0.401802   \n",
              "84417          0.397598          0.825506        0.458163   \n",
              "84418          0.600823          0.754058        0.321383   \n",
              "\n",
              "       p_2_avg_pwon_r_game  p_2_avg_bp_game  p_2_avg_r_game_w  p_2_avg_gm_w  \\\n",
              "0                 2.379692         0.820462          0.206769      0.590222   \n",
              "1                 3.376000         1.000000          0.500000      0.672000   \n",
              "2                 2.576222         0.610000          0.458667      0.639298   \n",
              "3                 2.613938         0.786627          0.259058      0.610900   \n",
              "4                 2.464857         0.721429          0.344571      0.556059   \n",
              "...                    ...              ...               ...           ...   \n",
              "84414             2.078494         0.508900          0.177076      0.497519   \n",
              "84415             2.618979         0.562970          0.293633      0.524004   \n",
              "84416             2.119391         0.575703          0.220303      0.520682   \n",
              "84417             2.745837         0.672990          0.281594      0.555240   \n",
              "84418             1.702804         0.120831          0.061878      0.409803   \n",
              "\n",
              "       p_2_avg_g_dominance  p_2_avg_br_ratio  p_2_avg_win_p  \n",
              "0                 0.355385          0.361905       0.657614  \n",
              "1                 1.950000          0.585000       0.514321  \n",
              "2                 3.248000          4.856889       0.628589  \n",
              "3                 1.254978          1.015619       0.637729  \n",
              "4                 1.407643          1.196667       0.281949  \n",
              "...                    ...               ...            ...  \n",
              "84414             1.052200          1.357086       0.437453  \n",
              "84415             0.746031          0.995261       0.488511  \n",
              "84416             0.472382          1.009583       0.479825  \n",
              "84417             1.930559          0.941370       0.376046  \n",
              "84418             0.134408          2.265669       0.225380  \n",
              "\n",
              "[80166 rows x 70 columns]"
            ]
          },
          "metadata": {},
          "output_type": "display_data"
        },
        {
          "name": "stdout",
          "output_type": "stream",
          "text": [
            "Index(['date', 'label', 'p1_odd', 'p2_odd', 'h2h', 'h2h_p', 'p_1_tour_suc',\n",
            "       'p_2_tour_suc', 'p_1_tour_suc_per', 'p_2_tour_suc_per', 'p_1_rank',\n",
            "       'p_1_elo_dif', 'p_1_avg_ace', 'p_1_avg_df', 'p_1_avg_tt_p',\n",
            "       'p_1_avg_sv_w', 'p_1_avg_1st_w', 'p_1_avg_2nd_w', 'p_1_avg_bp_save',\n",
            "       'p_1_avg_r_1st_w', 'p_1_avg_bp_w', 'p_1_avg_rp_w',\n",
            "       'p_1_avg_p_dominance', 'p_1_avg_ace_game', 'p_1_avg_df_game',\n",
            "       'p_1_avg_df_2nd_sv', 'p_1_avg_ace_df_ratio', 'p_1_avg_1st_sv_eff',\n",
            "       'p_1_avg_sv_ip_w', 'p_1_avg_ploss_game', 'p_1_avg_bpf_game',\n",
            "       'p_1_avg_svp_game', 'p_1_avg_r_ip_w', 'p_1_avg_pwon_r_game',\n",
            "       'p_1_avg_bp_game', 'p_1_avg_r_game_w', 'p_1_avg_gm_w',\n",
            "       'p_1_avg_g_dominance', 'p_1_avg_br_ratio', 'p_1_avg_win_p', 'p_2_rank',\n",
            "       'p_2_elo_dif', 'p_2_avg_ace', 'p_2_avg_df', 'p_2_avg_tt_p',\n",
            "       'p_2_avg_sv_w', 'p_2_avg_1st_w', 'p_2_avg_2nd_w', 'p_2_avg_bp_save',\n",
            "       'p_2_avg_r_1st_w', 'p_2_avg_bp_w', 'p_2_avg_rp_w',\n",
            "       'p_2_avg_p_dominance', 'p_2_avg_ace_game', 'p_2_avg_df_game',\n",
            "       'p_2_avg_df_2nd_sv', 'p_2_avg_ace_df_ratio', 'p_2_avg_1st_sv_eff',\n",
            "       'p_2_avg_sv_ip_w', 'p_2_avg_ploss_game', 'p_2_avg_bpf_game',\n",
            "       'p_2_avg_svp_game', 'p_2_avg_r_ip_w', 'p_2_avg_pwon_r_game',\n",
            "       'p_2_avg_bp_game', 'p_2_avg_r_game_w', 'p_2_avg_gm_w',\n",
            "       'p_2_avg_g_dominance', 'p_2_avg_br_ratio', 'p_2_avg_win_p'],\n",
            "      dtype='object')\n"
          ]
        }
      ],
      "source": [
        "df=pd.read_csv('/content/drive/MyDrive/TennisML_0.22.csv',index_col=0)\n",
        "df = df.replace([np.inf, -np.inf], np.nan)\n",
        "with pd.option_context('mode.use_inf_as_null', True):\n",
        "    df = df.dropna(subset=df.columns.difference(['p1_odd','p2_odd']), how='any')\n",
        "df.drop(['match_id','p1_id','p2_id','p_1_rel_surf', 'p_1_rel_ind','p_2_rel_surf', 'p_2_rel_ind'],axis=1,inplace=True)\n",
        "display(df)\n",
        "print(df.columns)"
      ]
    },
    {
      "cell_type": "code",
      "execution_count": null,
      "metadata": {
        "colab": {
          "base_uri": "https://localhost:8080/"
        },
        "id": "5lh5VuM5z3uf",
        "outputId": "b2afaea4-8ff8-49fd-f94d-6daacb438353"
      },
      "outputs": [
        {
          "name": "stdout",
          "output_type": "stream",
          "text": [
            "77809    2018-10-01\n",
            "77810    2018-10-01\n",
            "77811    2018-10-01\n",
            "77812    2018-10-01\n",
            "77813    2018-10-01\n",
            "            ...    \n",
            "84413    2021-11-07\n",
            "84414    2021-11-07\n",
            "84415    2021-11-07\n",
            "84417    2021-11-07\n",
            "84418    2021-11-07\n",
            "Name: date, Length: 2914, dtype: object\n",
            "(75390, 66) (75390,)\n",
            "(1862, 66) (1862,) (1862, 2)\n",
            "(2914, 66) (2914,) (2914, 2)\n"
          ]
        }
      ],
      "source": [
        "date='2018-1-1'\n",
        "odd_dataset=df[df['p1_odd'].notna()]\n",
        "X_val=odd_dataset.loc[(odd_dataset['date'] < date),~odd_dataset.columns.isin(['label'])].iloc[::10]\n",
        "y_val=odd_dataset.loc[odd_dataset.index.isin(X_val.index),'label']\n",
        "X_test=odd_dataset.loc[(odd_dataset['date'] > date),~odd_dataset.columns.isin(['label'])]\n",
        "print(X_test['date'])\n",
        "y_test=odd_dataset.loc[odd_dataset.index.isin(X_test.index),'label']\n",
        "odds_test=X_test[['p1_odd', 'p2_odd']].copy()\n",
        "odds_val=X_val[['p1_odd','p2_odd']].copy()\n",
        "X_test=X_test.drop(['p1_odd', 'p2_odd','date'], axis=1)\n",
        "X_val=X_val.drop(['p1_odd', 'p2_odd','date'], axis=1)\n",
        "X_train=df.loc[(~df.index.isin(X_val.index)) & (~df.index.isin(X_test.index)),~df.columns.isin(['label', 'p1_odd','p2_odd'])]\n",
        "X_train=X_train.drop('date', axis=1)\n",
        "Y_train=df.loc[(~df.index.isin(X_val.index)) & (~df.index.isin(X_test.index)),'label']\n",
        "\n",
        "print(X_train.shape,Y_train.shape)\n",
        "print(X_val.shape,y_val.shape,odds_val.shape)\n",
        "print(X_test.shape,y_test.shape,odds_test.shape)"
      ]
    },
    {
      "cell_type": "code",
      "execution_count": null,
      "metadata": {
        "id": "j97brqaGz159"
      },
      "outputs": [],
      "source": [
        "scaler = StandardScaler()\n",
        "p_1_columns=[i for i in df.columns if 'p_1' in i]\n",
        "p_2_columns=[i for i in df.columns if 'p_2' in i]\n",
        "X_train[p_1_columns]= scaler.fit_transform(X_train[p_1_columns].to_numpy())\n",
        "X_train[p_2_columns]= scaler.transform(X_train[p_2_columns].to_numpy())\n",
        "X_val[p_1_columns]=scaler.transform(X_val[p_1_columns].to_numpy())\n",
        "X_val[p_2_columns]=scaler.transform(X_val[p_2_columns].to_numpy())\n",
        "X_test[p_1_columns] = scaler.transform(X_test[p_1_columns].to_numpy())\n",
        "X_test[p_2_columns] = scaler.transform(X_test[p_2_columns].to_numpy())"
      ]
    },
    {
      "cell_type": "code",
      "execution_count": null,
      "metadata": {
        "id": "P3vGTIBWzv-m"
      },
      "outputs": [],
      "source": [
        "EPOCHS = 20\n",
        "BATCH_SIZE = 32\n",
        "LEARNING_RATE = 0.0005"
      ]
    },
    {
      "cell_type": "code",
      "execution_count": null,
      "metadata": {
        "id": "-vvlrcmiztSA"
      },
      "outputs": [],
      "source": [
        "class TestData(Dataset):\n",
        "    \n",
        "    def __init__(self, X_data,y_data,z_data):\n",
        "        self.X_data = X_data\n",
        "        self.y_data = y_data\n",
        "        self.z_data= z_data\n",
        "        \n",
        "    def __getitem__(self, index):\n",
        "        return self.X_data[index], self.y_data[index],self.z_data[index]\n",
        "        \n",
        "    def __len__ (self):\n",
        "        return len(self.X_data)"
      ]
    },
    {
      "cell_type": "code",
      "execution_count": null,
      "metadata": {
        "id": "Bp40Ys9nzN_S"
      },
      "outputs": [],
      "source": [
        "test_data = TestData(torch.FloatTensor(X_test.values),torch.FloatTensor(y_test.values),torch.FloatTensor(odds_test.values))\n",
        "test_loader = DataLoader(dataset=test_data, batch_size=BATCH_SIZE, shuffle=False)"
      ]
    },
    {
      "cell_type": "code",
      "execution_count": null,
      "metadata": {
        "id": "TyZHk0mrv46w"
      },
      "outputs": [],
      "source": [
        "class BinaryClassification(nn.Module):\n",
        "    def __init__(self):\n",
        "        super(BinaryClassification, self).__init__()\n",
        "        # Number of input features is 12.\n",
        "        self.layer_1 = nn.Linear(X_train.shape[1], 64) \n",
        "        self.layer_2 = nn.Linear(64, 64)\n",
        "        self.layer_out = nn.Linear(64, 1) \n",
        "        \n",
        "        self.relu = nn.ReLU()\n",
        "        self.dropout1 = nn.Dropout(p=0.5)\n",
        "        self.dropout2 = nn.Dropout(p=0.5)\n",
        "        self.batchnorm1 = nn.BatchNorm1d(64)\n",
        "        self.batchnorm2 = nn.BatchNorm1d(64)\n",
        "        \n",
        "    def forward(self, inputs):\n",
        "        x = self.relu(self.layer_1(inputs))\n",
        "        x = self.batchnorm1(x)\n",
        "        x = self.dropout1(x)\n",
        "        x = self.relu(self.layer_2(x))\n",
        "        x = self.batchnorm2(x)\n",
        "        x = self.dropout2(x)\n",
        "        x = self.layer_out(x)\n",
        "        \n",
        "        return x"
      ]
    },
    {
      "cell_type": "code",
      "execution_count": null,
      "metadata": {
        "id": "fLpXooN-y_Io"
      },
      "outputs": [],
      "source": [
        "def sigmoid(x):\n",
        "    sig = 1 / (1 + math.exp(-x))\n",
        "    return sig"
      ]
    },
    {
      "cell_type": "code",
      "execution_count": null,
      "metadata": {
        "id": "WhVP123Ky3v-"
      },
      "outputs": [],
      "source": [
        "def binary_acc(y_pred, y_test):\n",
        "    y_pred_tag = torch.round(torch.sigmoid(y_pred))\n",
        "\n",
        "    correct_results_sum = (y_pred_tag == y_test).sum().float()\n",
        "    acc = correct_results_sum/y_test.shape[0]\n",
        "    acc = torch.round(acc * 100)\n",
        "    \n",
        "    return acc"
      ]
    },
    {
      "cell_type": "code",
      "execution_count": null,
      "metadata": {
        "id": "Ibic3nS_y8HB"
      },
      "outputs": [],
      "source": [
        "def compute_expectation(y_pred,odds):\n",
        "    return y_pred*odds"
      ]
    },
    {
      "cell_type": "code",
      "execution_count": null,
      "metadata": {
        "id": "066voO5vy5vi"
      },
      "outputs": [],
      "source": [
        "def get_roi(y_pred,odds,outcome,stake=1,threshold=1):\n",
        "  bets_return=[]\n",
        "  profit=0\n",
        "  p1_pred=torch.sigmoid(y_pred)\n",
        "  p2_pred=(1-p1_pred)\n",
        "  p1_odd,p2_odd=odds[:,0].unsqueeze(1),odds[:,1].unsqueeze(1)\n",
        "  outcome=outcome.unsqueeze(1)\n",
        "  p1_expectation=compute_expectation(p1_pred,p1_odd)\n",
        "  p2_expectation=compute_expectation(p2_pred,p2_odd)\n",
        "  bet_p1= (p1_expectation > threshold) & (p1_expectation>p2_expectation)\n",
        "  bet_p2= (p2_expectation > threshold) & (p2_expectation>p1_expectation)\n",
        "  bets_taken=torch.count_nonzero(bet_p1)+torch.count_nonzero(bet_p2)\n",
        "  result=torch.sum(outcome[bet_p1].unsqueeze(1)*p1_odd[bet_p1].unsqueeze(1)*stake-stake)+torch.sum((1-outcome[bet_p2].unsqueeze(1))*p2_odd[bet_p2].unsqueeze(1)*stake-stake)\n",
        "  [bets_return.append(round(i[0],4)) for i in ((outcome[bet_p1].unsqueeze(1)*p1_odd[bet_p1].unsqueeze(1)*stake-stake).tolist())]\n",
        "  [bets_return.append(round(i[0],4)) for i in (((1-outcome[bet_p2].unsqueeze(1))*p2_odd[bet_p2].unsqueeze(1)*stake-stake).tolist())]\n",
        "  percentage=(torch.sum(outcome[bet_p1].unsqueeze(1))+torch.sum((1-outcome[bet_p2].unsqueeze(1))))/(torch.sum(bet_p1)+torch.sum(bet_p2))\n",
        "  return result,bets_taken,bets_return,percentage"
      ]
    },
    {
      "cell_type": "code",
      "execution_count": null,
      "metadata": {
        "id": "oQZFQbdSyePU"
      },
      "outputs": [],
      "source": [
        "model = BinaryClassification()\n",
        "device = torch.device(\"cuda:0\" if torch.cuda.is_available() else \"cpu\")\n",
        "model.load_state_dict(torch.load('/content/saved_model (4).pth'))\n",
        "model.to(device)\n",
        "criterion = nn.BCEWithLogitsLoss()\n",
        "optimizer = optim.Adam(model.parameters(), lr=LEARNING_RATE,weight_decay=1e-4)"
      ]
    },
    {
      "cell_type": "code",
      "execution_count": null,
      "metadata": {
        "id": "AdKfCHGFzEp6"
      },
      "outputs": [],
      "source": [
        "def graph_profit(profit):\n",
        "  plt.plot(np.cumsum(profit))\n",
        "  plt.xlabel(\"Bets taken\", fontsize = 10)\n",
        "  plt.ylabel(\"Profit\", fontsize = 10)\n",
        "  plt.show()\n",
        "  return profit"
      ]
    },
    {
      "cell_type": "code",
      "execution_count": null,
      "metadata": {
        "colab": {
          "base_uri": "https://localhost:8080/",
          "height": 337
        },
        "id": "bDN4INr5yqFo",
        "outputId": "886716f7-5b75-40a0-d8c9-242646bba962"
      },
      "outputs": [
        {
          "name": "stdout",
          "output_type": "stream",
          "text": [
            "Loss: 0.59553 | Acc: 68.370\n"
          ]
        },
        {
          "data": {
            "image/png": "[encoded data removed]",
            "text/plain": [
              "<Figure size 432x288 with 1 Axes>"
            ]
          },
          "metadata": {},
          "output_type": "display_data"
        },
        {
          "name": "stdout",
          "output_type": "stream",
          "text": [
            "In 2505 bets we received a profit of €316.04, this boils down to an E(X) of 1.13\n"
          ]
        }
      ],
      "source": [
        "y_pred_list = []\n",
        "model.eval()\n",
        "test_loss=0\n",
        "test_acc=0\n",
        "roi=0\n",
        "profit=[]\n",
        "bets_total=[]\n",
        "percentage_lst=[]\n",
        "bets=0\n",
        "with torch.no_grad():\n",
        "    for X_batch,y_batch,odds in test_loader:\n",
        "        X_batch, y_batch,odds = X_batch.to(device), y_batch.to(device),odds.to(device)\n",
        "        y_pred = model(X_batch)\n",
        "        loss = criterion(y_pred, y_batch.unsqueeze(1))\n",
        "        batch_profit,bets_taken,bets_return,percentage=get_roi(y_pred,odds,y_batch)\n",
        "        percentage_lst.append(percentage.item())\n",
        "        bets_total.extend(bets_return)\n",
        "        roi+=batch_profit.item()\n",
        "        bets+=bets_taken.item()\n",
        "        profit.append(batch_profit.item())\n",
        "        acc = binary_acc(y_pred, y_batch.unsqueeze(1))\n",
        "        test_loss += loss.item()\n",
        "        test_acc += acc.item()\n",
        "      \n",
        "    print(f'Loss: {test_loss/len(test_loader):.5f} | Acc: {test_acc/len(test_loader):.3f}')\n",
        "    graph_profit(bets_total)\n",
        "    print(\"In {} bets we received a profit of €{}, this boils down to an E(X) of {}\".format(bets,round(roi,2),round((bets+roi)/bets,2)))"
      ]
    },
    {
      "cell_type": "code",
      "execution_count": null,
      "metadata": {
        "colab": {
          "base_uri": "https://localhost:8080/",
          "height": 248
        },
        "id": "IMQnSk_G-YKx",
        "outputId": "81aebc0b-c89b-4e46-f540-20e91184d895"
      },
      "outputs": [
        {
          "data": {
            "image/png": "[encoded data removed]",
            "text/plain": [
              "<Figure size 432x288 with 1 Axes>"
            ]
          },
          "metadata": {},
          "output_type": "display_data"
        }
      ],
      "source": [
        "  sns.set_theme(style=\"whitegrid\")\n",
        "  sns.boxplot(y=percentage_lst,palette=\"Blues\", width=0.2)\n",
        "  plt.ylabel(\"(%) bets correct\", fontsize = 10)\n",
        "  plt.savefig('boxplot_stake.png')\n",
        "  plt.show()"
      ]
    },
    {
      "cell_type": "code",
      "execution_count": null,
      "metadata": {
        "colab": {
          "base_uri": "https://localhost:8080/",
          "height": 323
        },
        "id": "qO8D9WfK0pUz",
        "outputId": "f833db38-6c6c-4cc0-e930-6790e816db23"
      },
      "outputs": [
        {
          "name": "stdout",
          "output_type": "stream",
          "text": [
            "Loss: 0.59553 | Acc: 68.370, Mean: 0.544642968022305\n"
          ]
        },
        {
          "data": {
            "image/png": "[encoded data removed]",
            "text/plain": [
              "<Figure size 432x288 with 1 Axes>"
            ]
          },
          "metadata": {},
          "output_type": "display_data"
        },
        {
          "name": "stdout",
          "output_type": "stream",
          "text": [
            "In 2505 bets we received a profit of €1828.37, this boils down to an E(X) of 1.73\n"
          ]
        }
      ],
      "source": [
        "y_pred_list = []\n",
        "model.eval()\n",
        "test_loss=0\n",
        "test_acc=0\n",
        "roi=100\n",
        "profit=[]\n",
        "bets_total_model=[100]\n",
        "percentage_lst=[]\n",
        "bets=0\n",
        "with torch.no_grad():\n",
        "    for X_batch,y_batch,odds in test_loader:\n",
        "        X_batch, y_batch,odds = X_batch.to(device), y_batch.to(device),odds.to(device)\n",
        "        y_pred = model(X_batch)\n",
        "        loss = criterion(y_pred, y_batch.unsqueeze(1))\n",
        "        batch_profit,bets_taken,bets_return,percentage=get_roi(y_pred,odds,y_batch,stake=0.01*roi)\n",
        "        percentage_lst.append(percentage.item())\n",
        "        # if np.sum(bets_return)!=batch_profit:\n",
        "        #   print(batch_profit)\n",
        "        #   print(bets_return)\n",
        "        #   sys.exit()\n",
        "        bets_total_model.extend(bets_return)\n",
        "        roi+=batch_profit.item()\n",
        "        bets+=bets_taken.item()\n",
        "        profit.append(batch_profit.item())\n",
        "        acc = binary_acc(y_pred, y_batch.unsqueeze(1))\n",
        "        test_loss += loss.item()\n",
        "        test_acc += acc.item()\n",
        "      \n",
        "    print(f'Loss: {test_loss/len(test_loader):.5f} | Acc: {test_acc/len(test_loader):.3f}, Mean: {np.mean(percentage_lst)}')\n",
        "    graph_profit(bets_total_model)\n",
        "    print(\"In {} bets we received a profit of €{}, this boils down to an E(X) of {}\".format(bets,round(roi,2),round((bets+roi)/bets,2)))"
      ]
    },
    {
      "cell_type": "code",
      "execution_count": null,
      "metadata": {
        "id": "-sG0Psuu_Iw5"
      },
      "outputs": [],
      "source": [
        "def get_roi_bet365(y_pred,odds,outcome,stake=1,threshold=1):\n",
        "  bets_return=[]\n",
        "  profit=0\n",
        "  p1_odd,p2_odd=odds[:,0].unsqueeze(1),odds[:,1].unsqueeze(1)\n",
        "  outcome=outcome.unsqueeze(1)\n",
        "  bet_p1= (p2_odd > p1_odd) & (p1_odd>threshold)\n",
        "  bet_p2= (p1_odd > p2_odd) & (p2_odd>threshold)\n",
        "  bets_taken=torch.count_nonzero(bet_p1)+torch.count_nonzero(bet_p2)\n",
        "  result=torch.sum(outcome[bet_p1].unsqueeze(1)*p1_odd[bet_p1].unsqueeze(1)*stake-stake)+torch.sum((1-outcome[bet_p2].unsqueeze(1))*p2_odd[bet_p2].unsqueeze(1)*stake-stake)\n",
        "  [bets_return.append(round(i[0],4)) for i in ((outcome[bet_p1].unsqueeze(1)*p1_odd[bet_p1].unsqueeze(1)*stake-stake).tolist())]\n",
        "  [bets_return.append(round(i[0],4)) for i in (((1-outcome[bet_p2].unsqueeze(1))*p2_odd[bet_p2].unsqueeze(1)*stake-stake).tolist())]\n",
        "  percentage=(torch.sum(outcome[bet_p1].unsqueeze(1))+torch.sum((1-outcome[bet_p2].unsqueeze(1))))/(torch.sum(bet_p1)+torch.sum(bet_p2))\n",
        "  return result,bets_taken,bets_return,percentage"
      ]
    },
    {
      "cell_type": "code",
      "execution_count": null,
      "metadata": {
        "colab": {
          "base_uri": "https://localhost:8080/",
          "height": 341
        },
        "id": "u15gyb7j_GR0",
        "outputId": "2303641d-e5ea-4322-87d0-8ad0e7970062"
      },
      "outputs": [
        {
          "name": "stdout",
          "output_type": "stream",
          "text": [
            "Loss: 0.59553 | Acc: 68.370, Mean: 0.6602697874540868\n",
            "2834\n"
          ]
        },
        {
          "data": {
            "image/png": "[encoded data removed]",
            "text/plain": [
              "<Figure size 432x288 with 1 Axes>"
            ]
          },
          "metadata": {},
          "output_type": "display_data"
        },
        {
          "name": "stdout",
          "output_type": "stream",
          "text": [
            "In 2833 bets we received a profit of €24.12, this boils down to an E(X) of 1.01\n"
          ]
        }
      ],
      "source": [
        "y_pred_list = []\n",
        "model.eval()\n",
        "test_loss=0\n",
        "test_acc=0\n",
        "roi=100\n",
        "profit=[]\n",
        "bets_total_365=[100]\n",
        "percentage_lst=[]\n",
        "bets=0\n",
        "with torch.no_grad():\n",
        "    for X_batch,y_batch,odds in test_loader:\n",
        "        X_batch, y_batch,odds = X_batch.to(device), y_batch.to(device),odds.to(device)\n",
        "        y_pred = model(X_batch)\n",
        "        loss = criterion(y_pred, y_batch.unsqueeze(1))\n",
        "        batch_profit,bets_taken,bets_return,percentage=get_roi_bet365(y_pred,odds,y_batch,stake=0.01*roi)\n",
        "        bets_total_365.extend(bets_return)\n",
        "        percentage_lst.append(percentage.item())\n",
        "        roi+=batch_profit.item()\n",
        "        # if roi<0:\n",
        "        #   break\n",
        "        bets+=bets_taken.item()\n",
        "        profit.append(batch_profit.item())\n",
        "        acc = binary_acc(y_pred, y_batch.unsqueeze(1))\n",
        "        test_loss += loss.item()\n",
        "        test_acc += acc.item()\n",
        "\n",
        "    print(f'Loss: {test_loss/len(test_loader):.5f} | Acc: {test_acc/len(test_loader):.3f}, Mean: {np.mean(percentage_lst)}')\n",
        "    print(len(bets_total_365))\n",
        "    graph_profit(bets_total_365)\n",
        "    print(\"In {} bets we received a profit of €{}, this boils down to an E(X) of {}\".format(bets,round(roi,2),round((bets+roi)/bets,2)))"
      ]
    },
    {
      "cell_type": "code",
      "execution_count": null,
      "metadata": {
        "id": "-lgWlkjD-4a0"
      },
      "outputs": [],
      "source": [
        "def graph_profit_compare(profit_model,profit_linear_stake,profit_bet365):\n",
        "    sns.lineplot(data=np.cumsum(profit_model))\n",
        "    sns.lineplot(data=np.cumsum(profit_linear_stake))\n",
        "    sns.lineplot(data=np.cumsum(profit_bet365))\n",
        "    plt.legend(labels=[\"Exponential Stake NN\",\"Linear Stake NN\",'Exponetial Stake Bet365'])\n",
        "    plt.xlabel(\"Bets taken\", fontsize = 10)\n",
        "    plt.ylabel(\"Profit\", fontsize = 10)\n",
        "    plt.savefig('outcome.png')"
      ]
    },
    {
      "cell_type": "code",
      "execution_count": null,
      "metadata": {
        "colab": {
          "base_uri": "https://localhost:8080/",
          "height": 286
        },
        "id": "3Y6vWhLD-0sY",
        "outputId": "a69fa9a2-3c88-45ec-bb1b-6d4ffa52145d"
      },
      "outputs": [
        {
          "data": {
            "image/png": "[encoded data removed]",
            "text/plain": [
              "<Figure size 432x288 with 1 Axes>"
            ]
          },
          "metadata": {},
          "output_type": "display_data"
        }
      ],
      "source": [
        "graph_profit_compare(bets_total_model,bets_total,bets_total_365)"
      ]
    }
  ],
  "metadata": {
    "accelerator": "GPU",
    "colab": {
      "collapsed_sections": [],
      "name": "TennisML.ipynb",
      "provenance": []
    },
    "kernelspec": {
      "display_name": "Python 3",
      "name": "python3"
    },
    "language_info": {
      "name": "python",
      "version": "3.9.10"
    }
  },
  "nbformat": 4,
  "nbformat_minor": 0
}
